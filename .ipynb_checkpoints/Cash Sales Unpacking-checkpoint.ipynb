{
 "cells": [
  {
   "cell_type": "markdown",
   "id": "7c76fd17",
   "metadata": {},
   "source": [
    "## Importing Modules"
   ]
  },
  {
   "cell_type": "code",
   "execution_count": 1,
   "id": "a3be3ab8",
   "metadata": {},
   "outputs": [],
   "source": [
    "import re\n",
    "import csv\n",
    "import numpy as np\n",
    "import pandas as pd"
   ]
  },
  {
   "cell_type": "markdown",
   "id": "8440e09c",
   "metadata": {},
   "source": [
    "## Setting up files"
   ]
  },
  {
   "cell_type": "code",
   "execution_count": 84,
   "id": "a3e98be3",
   "metadata": {},
   "outputs": [],
   "source": [
    "source = 'BDCFHE - CASH Sales Audit Report by Dept Dec22.txt'"
   ]
  },
  {
   "cell_type": "markdown",
   "id": "f31d31e6",
   "metadata": {},
   "source": [
    "## Reading Files"
   ]
  },
  {
   "cell_type": "code",
   "execution_count": 85,
   "id": "6f841cbe",
   "metadata": {},
   "outputs": [],
   "source": [
    "file = open(source, 'r',  encoding=\"utf-8\")"
   ]
  },
  {
   "cell_type": "code",
   "execution_count": 86,
   "id": "c6bddd11",
   "metadata": {},
   "outputs": [],
   "source": [
    "read = file.readlines()"
   ]
  },
  {
   "cell_type": "code",
   "execution_count": 87,
   "id": "f24ea0f7",
   "metadata": {},
   "outputs": [],
   "source": [
    "no_header = read[11:]"
   ]
  },
  {
   "cell_type": "markdown",
   "id": "856c86fd",
   "metadata": {},
   "source": [
    "## Cleaning function"
   ]
  },
  {
   "cell_type": "code",
   "execution_count": 88,
   "id": "0d6783cf",
   "metadata": {},
   "outputs": [],
   "source": [
    "def clean(line):\n",
    "    \n",
    "    purg = line.split('  ')\n",
    "    \n",
    "    while '' in purg:\n",
    "        purg.remove('')\n",
    "        \n",
    "    ','.join(purg)\n",
    "        \n",
    "    return purg"
   ]
  },
  {
   "cell_type": "code",
   "execution_count": 89,
   "id": "f0c500cc",
   "metadata": {},
   "outputs": [],
   "source": [
    "write_to_file = []"
   ]
  },
  {
   "cell_type": "code",
   "execution_count": 90,
   "id": "c59d5342",
   "metadata": {},
   "outputs": [],
   "source": [
    "for line in no_header:\n",
    "    \n",
    "    write_to_file.append(clean(line))"
   ]
  },
  {
   "cell_type": "markdown",
   "id": "87663453",
   "metadata": {},
   "source": [
    "## Writing new file"
   ]
  },
  {
   "cell_type": "code",
   "execution_count": 91,
   "id": "41a15232",
   "metadata": {},
   "outputs": [],
   "source": [
    "with open(\"CASH Sales Audit Report by Dept Dec22.csv\", \"w\", encoding='Utf-8') as f:\n",
    "    writer = csv.writer(f)\n",
    "    writer.writerows(write_to_file)"
   ]
  }
 ],
 "metadata": {
  "kernelspec": {
   "display_name": "Python 3 (ipykernel)",
   "language": "python",
   "name": "python3"
  },
  "language_info": {
   "codemirror_mode": {
    "name": "ipython",
    "version": 3
   },
   "file_extension": ".py",
   "mimetype": "text/x-python",
   "name": "python",
   "nbconvert_exporter": "python",
   "pygments_lexer": "ipython3",
   "version": "3.9.7"
  }
 },
 "nbformat": 4,
 "nbformat_minor": 5
}
