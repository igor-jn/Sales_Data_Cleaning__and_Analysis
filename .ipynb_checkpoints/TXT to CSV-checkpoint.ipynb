{
 "cells": [
  {
   "cell_type": "markdown",
   "id": "7c76fd17",
   "metadata": {},
   "source": [
    "## Importing Modules"
   ]
  },
  {
   "cell_type": "code",
   "execution_count": 1,
   "id": "a3be3ab8",
   "metadata": {},
   "outputs": [],
   "source": [
    "import re\n",
    "import csv\n",
    "import numpy as np\n",
    "import pandas as pd\n",
    "import seaborn as sns"
   ]
  },
  {
   "cell_type": "code",
   "execution_count": 2,
   "id": "84e6c74a",
   "metadata": {},
   "outputs": [],
   "source": [
    "%matplotlib inline"
   ]
  },
  {
   "cell_type": "markdown",
   "id": "8440e09c",
   "metadata": {},
   "source": [
    "## Setting up files"
   ]
  },
  {
   "cell_type": "code",
   "execution_count": null,
   "id": "a3e98be3",
   "metadata": {},
   "outputs": [],
   "source": [
    "source = 'Feb2023.TXT'"
   ]
  },
  {
   "cell_type": "markdown",
   "id": "f31d31e6",
   "metadata": {},
   "source": [
    "## Reading Files"
   ]
  },
  {
   "cell_type": "code",
   "execution_count": null,
   "id": "6f841cbe",
   "metadata": {},
   "outputs": [],
   "source": [
    "file = open(source, 'r',  encoding=\"utf-8\")"
   ]
  },
  {
   "cell_type": "code",
   "execution_count": null,
   "id": "c6bddd11",
   "metadata": {},
   "outputs": [],
   "source": [
    "read = file.readlines()"
   ]
  },
  {
   "cell_type": "code",
   "execution_count": null,
   "id": "f24ea0f7",
   "metadata": {},
   "outputs": [],
   "source": [
    "no_header = read[8:]"
   ]
  },
  {
   "cell_type": "code",
   "execution_count": null,
   "id": "60f60466",
   "metadata": {},
   "outputs": [],
   "source": [
    "no_header"
   ]
  },
  {
   "cell_type": "code",
   "execution_count": null,
   "id": "b7f7028e",
   "metadata": {},
   "outputs": [],
   "source": []
  },
  {
   "cell_type": "markdown",
   "id": "856c86fd",
   "metadata": {},
   "source": [
    "## Cleaning function"
   ]
  },
  {
   "cell_type": "code",
   "execution_count": null,
   "id": "0d6783cf",
   "metadata": {},
   "outputs": [],
   "source": [
    "def clean(line):\n",
    "    \n",
    "    purg = line.split('  ')\n",
    "    \n",
    "    while '' in purg:\n",
    "        purg.remove('')\n",
    "        \n",
    "    ','.join(purg)\n",
    "        \n",
    "    return purg"
   ]
  },
  {
   "cell_type": "code",
   "execution_count": null,
   "id": "f0c500cc",
   "metadata": {},
   "outputs": [],
   "source": [
    "write_to_file = []"
   ]
  },
  {
   "cell_type": "code",
   "execution_count": null,
   "id": "c59d5342",
   "metadata": {},
   "outputs": [],
   "source": [
    "for line in no_header:\n",
    "    \n",
    "    write_to_file.append(clean(line))"
   ]
  },
  {
   "cell_type": "code",
   "execution_count": null,
   "id": "554d09e6",
   "metadata": {},
   "outputs": [],
   "source": [
    "write_to_file"
   ]
  },
  {
   "cell_type": "markdown",
   "id": "87663453",
   "metadata": {},
   "source": [
    "## Writing new CSV file"
   ]
  },
  {
   "cell_type": "code",
   "execution_count": null,
   "id": "41a15232",
   "metadata": {},
   "outputs": [],
   "source": [
    "with open(\"Feb2023_v2.csv\", \"w\", encoding='Utf-8') as f:\n",
    "    writer = csv.writer(f)\n",
    "    writer.writerows(write_to_file)"
   ]
  },
  {
   "cell_type": "markdown",
   "id": "dc6b568f",
   "metadata": {},
   "source": [
    "## Loading new CSV file"
   ]
  },
  {
   "cell_type": "code",
   "execution_count": 2,
   "id": "2e26bc9d",
   "metadata": {},
   "outputs": [],
   "source": [
    "df = pd.read_csv('Feb2023_v2.csv',sep=',',encoding='Utf-8', engine='python')"
   ]
  },
  {
   "cell_type": "code",
   "execution_count": 6,
   "id": "c4bd5ee7",
   "metadata": {},
   "outputs": [
    {
     "data": {
      "text/html": [
       "<div>\n",
       "<style scoped>\n",
       "    .dataframe tbody tr th:only-of-type {\n",
       "        vertical-align: middle;\n",
       "    }\n",
       "\n",
       "    .dataframe tbody tr th {\n",
       "        vertical-align: top;\n",
       "    }\n",
       "\n",
       "    .dataframe thead th {\n",
       "        text-align: right;\n",
       "    }\n",
       "</style>\n",
       "<table border=\"1\" class=\"dataframe\">\n",
       "  <thead>\n",
       "    <tr style=\"text-align: right;\">\n",
       "      <th></th>\n",
       "      <th>Invoice_#</th>\n",
       "      <th>Clerk</th>\n",
       "      <th>SKU</th>\n",
       "      <th>Name</th>\n",
       "      <th>Quantity</th>\n",
       "      <th>Net_Price</th>\n",
       "      <th>Total_Sale</th>\n",
       "      <th>COGS</th>\n",
       "      <th>Profit</th>\n",
       "      <th>Margin</th>\n",
       "      <th>Tender</th>\n",
       "    </tr>\n",
       "  </thead>\n",
       "  <tbody>\n",
       "    <tr>\n",
       "      <th>0</th>\n",
       "      <td>90891A</td>\n",
       "      <td>6</td>\n",
       "      <td>3290FJ</td>\n",
       "      <td>3290FJ SHOE BASE</td>\n",
       "      <td>40.0</td>\n",
       "      <td>1.44</td>\n",
       "      <td>57.60</td>\n",
       "      <td>38.40</td>\n",
       "      <td>19.20</td>\n",
       "      <td>33.3</td>\n",
       "      <td>Visa</td>\n",
       "    </tr>\n",
       "    <tr>\n",
       "      <th>1</th>\n",
       "      <td>93890B</td>\n",
       "      <td>66</td>\n",
       "      <td>LUS26Z</td>\n",
       "      <td>Z MAX 2X6 SINGLE JOIST H</td>\n",
       "      <td>1.0</td>\n",
       "      <td>1.49</td>\n",
       "      <td>1.49</td>\n",
       "      <td>0.83</td>\n",
       "      <td>0.66</td>\n",
       "      <td>44.3</td>\n",
       "      <td>CHA-CHADWI\\r\\n</td>\n",
       "    </tr>\n",
       "    <tr>\n",
       "      <th>2</th>\n",
       "      <td>94250B</td>\n",
       "      <td>41</td>\n",
       "      <td>3290FJ</td>\n",
       "      <td>3290FJ SHOE BASE</td>\n",
       "      <td>16.0</td>\n",
       "      <td>1.44</td>\n",
       "      <td>23.04</td>\n",
       "      <td>15.36</td>\n",
       "      <td>7.68</td>\n",
       "      <td>33.3</td>\n",
       "      <td>Cash</td>\n",
       "    </tr>\n",
       "    <tr>\n",
       "      <th>3</th>\n",
       "      <td>94794A</td>\n",
       "      <td>41</td>\n",
       "      <td>FB24Z</td>\n",
       "      <td>ZMAX FENCE BRACKET</td>\n",
       "      <td>8.0</td>\n",
       "      <td>1.39</td>\n",
       "      <td>11.12</td>\n",
       "      <td>1.52</td>\n",
       "      <td>9.60</td>\n",
       "      <td>86.3</td>\n",
       "      <td>Visa</td>\n",
       "    </tr>\n",
       "    <tr>\n",
       "      <th>4</th>\n",
       "      <td>95773B</td>\n",
       "      <td>23</td>\n",
       "      <td>3290FJ</td>\n",
       "      <td>3290FJ SHOE BASE</td>\n",
       "      <td>24.0</td>\n",
       "      <td>1.44</td>\n",
       "      <td>34.56</td>\n",
       "      <td>23.04</td>\n",
       "      <td>11.52</td>\n",
       "      <td>33.3</td>\n",
       "      <td>Debit</td>\n",
       "    </tr>\n",
       "  </tbody>\n",
       "</table>\n",
       "</div>"
      ],
      "text/plain": [
       "  Invoice_#  Clerk     SKU                       Name  Quantity  Net_Price  \\\n",
       "0    90891A      6  3290FJ           3290FJ SHOE BASE      40.0       1.44   \n",
       "1    93890B     66  LUS26Z   Z MAX 2X6 SINGLE JOIST H       1.0       1.49   \n",
       "2    94250B     41  3290FJ           3290FJ SHOE BASE      16.0       1.44   \n",
       "3    94794A     41   FB24Z         ZMAX FENCE BRACKET       8.0       1.39   \n",
       "4    95773B     23  3290FJ           3290FJ SHOE BASE      24.0       1.44   \n",
       "\n",
       "   Total_Sale   COGS  Profit  Margin          Tender  \n",
       "0       57.60  38.40   19.20    33.3            Visa  \n",
       "1        1.49   0.83    0.66    44.3  CHA-CHADWI\\r\\n  \n",
       "2       23.04  15.36    7.68    33.3            Cash  \n",
       "3       11.12   1.52    9.60    86.3            Visa  \n",
       "4       34.56  23.04   11.52    33.3           Debit  "
      ]
     },
     "execution_count": 6,
     "metadata": {},
     "output_type": "execute_result"
    }
   ],
   "source": [
    "df.head()"
   ]
  },
  {
   "cell_type": "code",
   "execution_count": 13,
   "id": "2189bdbb",
   "metadata": {},
   "outputs": [
    {
     "data": {
      "text/plain": [
       "Invoice_#  Clerk  SKU        Name                       Quantity  Net_Price  Total_Sale  COGS   Profit  Margin  Tender     \n",
       "92778B     6      EF2        ECO FEE 251ML-1L PAINT     1.0       0.65       0.65        0.65   0.00    0.0     CHA-\\w+\\r\\n    5\n",
       "95038A     58     EF3        ECO FEE 1.01L TO 5L PAIN   1.0       1.00       1.00        1.00   0.00    0.0     CHA-\\w+\\r\\n    4\n",
       "90973B     23     EF5        ECO-FEE ANY SIZE AEROSOL   1.0       0.35       0.35        0.35   0.00    0.0     CHA-\\w+\\r\\n    4\n",
       "93911A     41     SF1        ECO FEE 750ML OR LESS SO   1.0       0.10       0.10        0.10   0.00    0.0     CHA-\\w+\\r\\n    3\n",
       "96675B     41     WARNING.    DUNBAR LUMBER NOT LIABLE  1.0       0.00       0.00        0.00   0.00    0.0     CHA-\\w+\\r\\n    3\n",
       "                                                                                                                              ..\n",
       "93059B     23     J570258    1/8\" JET-KUT GOLD JOBBER   4.0       3.99       15.96       7.32   8.64    54.1    CHA-\\w+\\r\\n    1\n",
       "93060B     23     0181917    TYVEK 3X100 HOMEWRAP       1.0       51.99      51.99       36.65  15.34   29.5    CHA-\\w+\\r\\n    1\n",
       "                  12STD      1/2\" STANDARD FR PLYWOOD   1.0       34.95      34.95       25.95  9.00    25.8    CHA-\\w+\\r\\n    1\n",
       "                  300000352  WINDOW FLASHING TAPE 60M   1.0       89.99      89.99       57.89  32.10   35.7    CHA-\\w+\\r\\n    1\n",
       "99999B     82     Z4UMF10-2  NOUR 10MM MICROFIBRE MIN   1.0       3.99       3.99        0.00   3.99    100.0   CHA-\\w+\\r\\n    1\n",
       "Length: 11540, dtype: int64"
      ]
     },
     "execution_count": 13,
     "metadata": {},
     "output_type": "execute_result"
    }
   ],
   "source": [
    "df[df['Tender'] == r'CHA-\\w+\\r\\n'].value_counts()"
   ]
  },
  {
   "cell_type": "code",
   "execution_count": 4,
   "id": "0f18e082",
   "metadata": {},
   "outputs": [],
   "source": [
    "df.drop('Unnamed: 0', axis=1, inplace=True)"
   ]
  },
  {
   "cell_type": "markdown",
   "id": "77934b72",
   "metadata": {},
   "source": [
    "## Preparing file"
   ]
  },
  {
   "cell_type": "code",
   "execution_count": null,
   "id": "5dbf2013",
   "metadata": {},
   "outputs": [],
   "source": [
    "mapper = ({0:'Invoice_#',\n",
    "           1:'Clerk',\n",
    "           2:'SKU',\n",
    "           3:'Name',\n",
    "           4:'Quantity',\n",
    "           5:'Net_Price',\n",
    "           6:'Total_Sale',\n",
    "           7:'COGS',\n",
    "           8:'Profit',\n",
    "           9:'Margin',\n",
    "           10:'Tender'})"
   ]
  },
  {
   "cell_type": "code",
   "execution_count": null,
   "id": "15f24572",
   "metadata": {},
   "outputs": [],
   "source": [
    "df = df.rename(columns=mapper)"
   ]
  },
  {
   "cell_type": "markdown",
   "id": "8936e4b9",
   "metadata": {},
   "source": [
    "## Correcting 'Tender' info"
   ]
  },
  {
   "cell_type": "code",
   "execution_count": null,
   "id": "c557ec3d",
   "metadata": {},
   "outputs": [],
   "source": [
    "df = df.replace(['DBC\\r\\n'], 'Debit')\n",
    "df = df.replace(['VIS\\r\\n'], 'Visa')\n",
    "df = df.replace(['MAS\\r\\n'], 'Mastercard')\n",
    "df = df.replace(['CAS\\r\\n'], 'Cash')"
   ]
  },
  {
   "cell_type": "code",
   "execution_count": null,
   "id": "ee0bfdc5",
   "metadata": {},
   "outputs": [],
   "source": [
    "df.info()"
   ]
  },
  {
   "cell_type": "code",
   "execution_count": null,
   "id": "c4cc3ab4",
   "metadata": {},
   "outputs": [],
   "source": [
    "df = df.dropna()"
   ]
  },
  {
   "cell_type": "code",
   "execution_count": null,
   "id": "da73f901",
   "metadata": {},
   "outputs": [],
   "source": [
    "## boolseries = (df['SKU'] != 'EF5') & (df['SKU'] != 'EF4') & (df['SKU'] != 'EF3') & (df['SKU'] != 'EF2') & (df['SKU'] != 'EF1') & (df['SKU'] != '/H') & (df['SKU'] != 'DELIVERY')\n",
    "## (df['SKU'] != 'EF5') & (df['SKU'] != 'EF4') & (df['SKU'] != 'EF3') & (df['SKU'] != 'EF2') & (df['SKU'] != 'EF1')"
   ]
  },
  {
   "cell_type": "markdown",
   "id": "46e906fc",
   "metadata": {},
   "source": [
    "## Saving new CSV"
   ]
  },
  {
   "cell_type": "code",
   "execution_count": null,
   "id": "627b5fba",
   "metadata": {},
   "outputs": [],
   "source": [
    "df.to_csv(path_or_buf='Feb2023_v2.csv')"
   ]
  },
  {
   "cell_type": "code",
   "execution_count": null,
   "id": "b23b8f67",
   "metadata": {},
   "outputs": [],
   "source": [
    "cleandf[cleandf['SKU'] == 'DELIVERY']"
   ]
  },
  {
   "cell_type": "code",
   "execution_count": null,
   "id": "49cba959",
   "metadata": {},
   "outputs": [],
   "source": [
    "df[df['SKU'] == '/H']"
   ]
  },
  {
   "cell_type": "code",
   "execution_count": null,
   "id": "9fe80a29",
   "metadata": {},
   "outputs": [],
   "source": [
    "cleandf = cleandf[~(cleandf['SKU'] == 'WARNING.')]"
   ]
  },
  {
   "cell_type": "code",
   "execution_count": null,
   "id": "1f7393ab",
   "metadata": {},
   "outputs": [],
   "source": [
    "cleandf.info()"
   ]
  },
  {
   "cell_type": "code",
   "execution_count": null,
   "id": "ed7e4cf0",
   "metadata": {},
   "outputs": [],
   "source": [
    "cleandf.plot.hexbin(x='Total_Sale', y='Profit',gridsize=15)"
   ]
  },
  {
   "cell_type": "code",
   "execution_count": null,
   "id": "77326b53",
   "metadata": {},
   "outputs": [],
   "source": [
    "bysku = cleandf.groupby('SKU').Total_Sale.aggregate(np.sum)"
   ]
  },
  {
   "cell_type": "code",
   "execution_count": null,
   "id": "50553418",
   "metadata": {},
   "outputs": [],
   "source": [
    "cleandf[['SKU','Profit']].value_counts()"
   ]
  },
  {
   "cell_type": "code",
   "execution_count": null,
   "id": "a8328001",
   "metadata": {},
   "outputs": [],
   "source": []
  },
  {
   "cell_type": "code",
   "execution_count": 29,
   "id": "7e39318b",
   "metadata": {},
   "outputs": [],
   "source": [
    "rank = df.groupby(['SKU'])['Total_Sale'].sum()"
   ]
  },
  {
   "cell_type": "code",
   "execution_count": 30,
   "id": "280c12e1",
   "metadata": {},
   "outputs": [
    {
     "data": {
      "text/plain": [
       "SKU\n",
       "#4020           18.98\n",
       "#4030           99.90\n",
       "-12-            16.99\n",
       "-88003-          8.59\n",
       "/H            1206.08\n",
       "               ...   \n",
       "ZN25112L        27.99\n",
       "ZN25300L       107.98\n",
       "ZSB4U405        28.97\n",
       "ZSB4U410        59.94\n",
       "ZSB4UMF410      48.95\n",
       "Name: Total_Sale, Length: 4602, dtype: float64"
      ]
     },
     "execution_count": 30,
     "metadata": {},
     "output_type": "execute_result"
    }
   ],
   "source": [
    "rank"
   ]
  },
  {
   "cell_type": "code",
   "execution_count": 67,
   "id": "57a39c21",
   "metadata": {},
   "outputs": [
    {
     "data": {
      "text/plain": [
       "SKU\n",
       "12STD        5382.30\n",
       "248S         5198.08\n",
       "RAMBOARD     4550.55\n",
       "REBAR58      3317.60\n",
       "34STD        3237.30\n",
       "DELIVERY     3139.00\n",
       "34FORMPLY    2768.90\n",
       "2410S        2658.71\n",
       "2412S        2117.81\n",
       "PLPS         2065.84\n",
       "2610T        2025.00\n",
       "448STK       1876.50\n",
       "SKYLIGHT     1861.00\n",
       "CONC         1807.15\n",
       "523136       1739.13\n",
       "MAXBAG       1711.00\n",
       "21016S       1625.99\n",
       "12GYPROC     1563.08\n",
       "DS           1503.06\n",
       "R1415R       1489.95\n",
       "TR89165      1460.49\n",
       "Name: Total_Sale, dtype: float64"
      ]
     },
     "execution_count": 67,
     "metadata": {},
     "output_type": "execute_result"
    }
   ],
   "source": [
    "rank.sort_values(ascending=False)[0:21]"
   ]
  },
  {
   "cell_type": "code",
   "execution_count": 47,
   "id": "c167c10a",
   "metadata": {},
   "outputs": [
    {
     "data": {
      "text/plain": [
       "<AxesSubplot:ylabel='Total_Sale'>"
      ]
     },
     "execution_count": 47,
     "metadata": {},
     "output_type": "execute_result"
    },
    {
     "data": {
      "image/png": "[encoded data removed]",
      "text/plain": [
       "<Figure size 432x288 with 1 Axes>"
      ]
     },
     "metadata": {},
     "output_type": "display_data"
    }
   ],
   "source": [
    "rank.sort_values(ascending=False)[0:11].plot.pie()"
   ]
  },
  {
   "cell_type": "code",
   "execution_count": 41,
   "id": "a1ef3c2d",
   "metadata": {},
   "outputs": [
    {
     "data": {
      "text/plain": [
       "SKU\n",
       "#4020           18.98\n",
       "#4030           99.90\n",
       "-12-            16.99\n",
       "-88003-          8.59\n",
       "/H            1206.08\n",
       "               ...   \n",
       "ZN25112L        27.99\n",
       "ZN25300L       107.98\n",
       "ZSB4U405        28.97\n",
       "ZSB4U410        59.94\n",
       "ZSB4UMF410      48.95\n",
       "Name: Total_Sale, Length: 4602, dtype: float64"
      ]
     },
     "execution_count": 41,
     "metadata": {},
     "output_type": "execute_result"
    }
   ],
   "source": [
    "rank"
   ]
  },
  {
   "cell_type": "code",
   "execution_count": 48,
   "id": "a2229c61",
   "metadata": {},
   "outputs": [
    {
     "data": {
      "text/html": [
       "<div>\n",
       "<style scoped>\n",
       "    .dataframe tbody tr th:only-of-type {\n",
       "        vertical-align: middle;\n",
       "    }\n",
       "\n",
       "    .dataframe tbody tr th {\n",
       "        vertical-align: top;\n",
       "    }\n",
       "\n",
       "    .dataframe thead th {\n",
       "        text-align: right;\n",
       "    }\n",
       "</style>\n",
       "<table border=\"1\" class=\"dataframe\">\n",
       "  <thead>\n",
       "    <tr style=\"text-align: right;\">\n",
       "      <th></th>\n",
       "      <th>Invoice_#</th>\n",
       "      <th>Clerk</th>\n",
       "      <th>SKU</th>\n",
       "      <th>Name</th>\n",
       "      <th>Quantity</th>\n",
       "      <th>Net_Price</th>\n",
       "      <th>Total_Sale</th>\n",
       "      <th>COGS</th>\n",
       "      <th>Profit</th>\n",
       "      <th>Margin</th>\n",
       "      <th>Tender</th>\n",
       "    </tr>\n",
       "  </thead>\n",
       "  <tbody>\n",
       "    <tr>\n",
       "      <th>0</th>\n",
       "      <td>90891A</td>\n",
       "      <td>6</td>\n",
       "      <td>3290FJ</td>\n",
       "      <td>3290FJ SHOE BASE</td>\n",
       "      <td>40.0</td>\n",
       "      <td>1.44</td>\n",
       "      <td>57.60</td>\n",
       "      <td>38.40</td>\n",
       "      <td>19.20</td>\n",
       "      <td>33.3</td>\n",
       "      <td>Visa</td>\n",
       "    </tr>\n",
       "    <tr>\n",
       "      <th>1</th>\n",
       "      <td>93890B</td>\n",
       "      <td>66</td>\n",
       "      <td>LUS26Z</td>\n",
       "      <td>Z MAX 2X6 SINGLE JOIST H</td>\n",
       "      <td>1.0</td>\n",
       "      <td>1.49</td>\n",
       "      <td>1.49</td>\n",
       "      <td>0.83</td>\n",
       "      <td>0.66</td>\n",
       "      <td>44.3</td>\n",
       "      <td>CHA-CHADWI\\r\\n</td>\n",
       "    </tr>\n",
       "    <tr>\n",
       "      <th>2</th>\n",
       "      <td>94250B</td>\n",
       "      <td>41</td>\n",
       "      <td>3290FJ</td>\n",
       "      <td>3290FJ SHOE BASE</td>\n",
       "      <td>16.0</td>\n",
       "      <td>1.44</td>\n",
       "      <td>23.04</td>\n",
       "      <td>15.36</td>\n",
       "      <td>7.68</td>\n",
       "      <td>33.3</td>\n",
       "      <td>Cash</td>\n",
       "    </tr>\n",
       "    <tr>\n",
       "      <th>3</th>\n",
       "      <td>94794A</td>\n",
       "      <td>41</td>\n",
       "      <td>FB24Z</td>\n",
       "      <td>ZMAX FENCE BRACKET</td>\n",
       "      <td>8.0</td>\n",
       "      <td>1.39</td>\n",
       "      <td>11.12</td>\n",
       "      <td>1.52</td>\n",
       "      <td>9.60</td>\n",
       "      <td>86.3</td>\n",
       "      <td>Visa</td>\n",
       "    </tr>\n",
       "    <tr>\n",
       "      <th>4</th>\n",
       "      <td>95773B</td>\n",
       "      <td>23</td>\n",
       "      <td>3290FJ</td>\n",
       "      <td>3290FJ SHOE BASE</td>\n",
       "      <td>24.0</td>\n",
       "      <td>1.44</td>\n",
       "      <td>34.56</td>\n",
       "      <td>23.04</td>\n",
       "      <td>11.52</td>\n",
       "      <td>33.3</td>\n",
       "      <td>Debit</td>\n",
       "    </tr>\n",
       "  </tbody>\n",
       "</table>\n",
       "</div>"
      ],
      "text/plain": [
       "  Invoice_#  Clerk     SKU                       Name  Quantity  Net_Price  \\\n",
       "0    90891A      6  3290FJ           3290FJ SHOE BASE      40.0       1.44   \n",
       "1    93890B     66  LUS26Z   Z MAX 2X6 SINGLE JOIST H       1.0       1.49   \n",
       "2    94250B     41  3290FJ           3290FJ SHOE BASE      16.0       1.44   \n",
       "3    94794A     41   FB24Z         ZMAX FENCE BRACKET       8.0       1.39   \n",
       "4    95773B     23  3290FJ           3290FJ SHOE BASE      24.0       1.44   \n",
       "\n",
       "   Total_Sale   COGS  Profit  Margin          Tender  \n",
       "0       57.60  38.40   19.20    33.3            Visa  \n",
       "1        1.49   0.83    0.66    44.3  CHA-CHADWI\\r\\n  \n",
       "2       23.04  15.36    7.68    33.3            Cash  \n",
       "3       11.12   1.52    9.60    86.3            Visa  \n",
       "4       34.56  23.04   11.52    33.3           Debit  "
      ]
     },
     "execution_count": 48,
     "metadata": {},
     "output_type": "execute_result"
    }
   ],
   "source": []
  },
  {
   "cell_type": "code",
   "execution_count": 62,
   "id": "542e6adc",
   "metadata": {},
   "outputs": [
    {
     "ename": "TypeError",
     "evalue": "'DataFrame' object is not callable",
     "output_type": "error",
     "traceback": [
      "\u001b[1;31m---------------------------------------------------------------------------\u001b[0m",
      "\u001b[1;31mTypeError\u001b[0m                                 Traceback (most recent call last)",
      "\u001b[1;32m~\\AppData\\Local\\Temp/ipykernel_3676/1705649806.py\u001b[0m in \u001b[0;36m<module>\u001b[1;34m\u001b[0m\n\u001b[1;32m----> 1\u001b[1;33m \u001b[0msns\u001b[0m\u001b[1;33m.\u001b[0m\u001b[0mdistplot\u001b[0m\u001b[1;33m(\u001b[0m\u001b[0mtest\u001b[0m\u001b[1;33m(\u001b[0m\u001b[1;33m[\u001b[0m\u001b[1;34m'SKU'\u001b[0m\u001b[1;33m]\u001b[0m\u001b[1;33m)\u001b[0m\u001b[1;33m,\u001b[0m\u001b[0mbins\u001b[0m\u001b[1;33m=\u001b[0m\u001b[1;36m30\u001b[0m\u001b[1;33m)\u001b[0m\u001b[1;33m\u001b[0m\u001b[1;33m\u001b[0m\u001b[0m\n\u001b[0m",
      "\u001b[1;31mTypeError\u001b[0m: 'DataFrame' object is not callable"
     ]
    }
   ],
   "source": [
    "sns.distplot(test(['SKU']),bins=30)"
   ]
  },
  {
   "cell_type": "code",
   "execution_count": 55,
   "id": "8d583539",
   "metadata": {},
   "outputs": [
    {
     "data": {
      "text/plain": [
       "<pandas.core.groupby.generic.DataFrameGroupBy object at 0x00000072F8FB44C0>"
      ]
     },
     "execution_count": 55,
     "metadata": {},
     "output_type": "execute_result"
    }
   ],
   "source": [
    "df.groupby(['SKU'])"
   ]
  },
  {
   "cell_type": "code",
   "execution_count": 61,
   "id": "889d481c",
   "metadata": {},
   "outputs": [],
   "source": [
    "test = df.groupby(['SKU']).sum()"
   ]
  },
  {
   "cell_type": "code",
   "execution_count": 63,
   "id": "61b7d5b9",
   "metadata": {},
   "outputs": [
    {
     "data": {
      "text/html": [
       "<div>\n",
       "<style scoped>\n",
       "    .dataframe tbody tr th:only-of-type {\n",
       "        vertical-align: middle;\n",
       "    }\n",
       "\n",
       "    .dataframe tbody tr th {\n",
       "        vertical-align: top;\n",
       "    }\n",
       "\n",
       "    .dataframe thead th {\n",
       "        text-align: right;\n",
       "    }\n",
       "</style>\n",
       "<table border=\"1\" class=\"dataframe\">\n",
       "  <thead>\n",
       "    <tr style=\"text-align: right;\">\n",
       "      <th></th>\n",
       "      <th>Clerk</th>\n",
       "      <th>Quantity</th>\n",
       "      <th>Net_Price</th>\n",
       "      <th>Total_Sale</th>\n",
       "      <th>COGS</th>\n",
       "      <th>Profit</th>\n",
       "      <th>Margin</th>\n",
       "    </tr>\n",
       "    <tr>\n",
       "      <th>SKU</th>\n",
       "      <th></th>\n",
       "      <th></th>\n",
       "      <th></th>\n",
       "      <th></th>\n",
       "      <th></th>\n",
       "      <th></th>\n",
       "      <th></th>\n",
       "    </tr>\n",
       "  </thead>\n",
       "  <tbody>\n",
       "    <tr>\n",
       "      <th>#4020</th>\n",
       "      <td>12</td>\n",
       "      <td>2.0</td>\n",
       "      <td>18.981</td>\n",
       "      <td>18.98</td>\n",
       "      <td>12.34</td>\n",
       "      <td>6.64</td>\n",
       "      <td>69.6</td>\n",
       "    </tr>\n",
       "    <tr>\n",
       "      <th>#4030</th>\n",
       "      <td>365</td>\n",
       "      <td>10.0</td>\n",
       "      <td>99.900</td>\n",
       "      <td>99.90</td>\n",
       "      <td>72.20</td>\n",
       "      <td>27.70</td>\n",
       "      <td>277.0</td>\n",
       "    </tr>\n",
       "    <tr>\n",
       "      <th>-12-</th>\n",
       "      <td>23</td>\n",
       "      <td>1.0</td>\n",
       "      <td>16.990</td>\n",
       "      <td>16.99</td>\n",
       "      <td>8.85</td>\n",
       "      <td>8.14</td>\n",
       "      <td>47.9</td>\n",
       "    </tr>\n",
       "    <tr>\n",
       "      <th>-88003-</th>\n",
       "      <td>204</td>\n",
       "      <td>5.0</td>\n",
       "      <td>6.802</td>\n",
       "      <td>8.59</td>\n",
       "      <td>1.40</td>\n",
       "      <td>7.19</td>\n",
       "      <td>334.0</td>\n",
       "    </tr>\n",
       "    <tr>\n",
       "      <th>/H</th>\n",
       "      <td>3288</td>\n",
       "      <td>356.0</td>\n",
       "      <td>664.355</td>\n",
       "      <td>1206.08</td>\n",
       "      <td>669.95</td>\n",
       "      <td>536.13</td>\n",
       "      <td>3839.1</td>\n",
       "    </tr>\n",
       "    <tr>\n",
       "      <th>...</th>\n",
       "      <td>...</td>\n",
       "      <td>...</td>\n",
       "      <td>...</td>\n",
       "      <td>...</td>\n",
       "      <td>...</td>\n",
       "      <td>...</td>\n",
       "      <td>...</td>\n",
       "    </tr>\n",
       "    <tr>\n",
       "      <th>ZN25112L</th>\n",
       "      <td>6</td>\n",
       "      <td>1.0</td>\n",
       "      <td>27.990</td>\n",
       "      <td>27.99</td>\n",
       "      <td>13.00</td>\n",
       "      <td>14.99</td>\n",
       "      <td>53.6</td>\n",
       "    </tr>\n",
       "    <tr>\n",
       "      <th>ZN25300L</th>\n",
       "      <td>83</td>\n",
       "      <td>2.0</td>\n",
       "      <td>107.980</td>\n",
       "      <td>107.98</td>\n",
       "      <td>54.74</td>\n",
       "      <td>53.24</td>\n",
       "      <td>98.6</td>\n",
       "    </tr>\n",
       "    <tr>\n",
       "      <th>ZSB4U405</th>\n",
       "      <td>111</td>\n",
       "      <td>3.0</td>\n",
       "      <td>28.971</td>\n",
       "      <td>28.97</td>\n",
       "      <td>10.20</td>\n",
       "      <td>18.77</td>\n",
       "      <td>194.2</td>\n",
       "    </tr>\n",
       "    <tr>\n",
       "      <th>ZSB4U410</th>\n",
       "      <td>229</td>\n",
       "      <td>6.0</td>\n",
       "      <td>59.940</td>\n",
       "      <td>59.94</td>\n",
       "      <td>0.00</td>\n",
       "      <td>59.94</td>\n",
       "      <td>600.0</td>\n",
       "    </tr>\n",
       "    <tr>\n",
       "      <th>ZSB4UMF410</th>\n",
       "      <td>284</td>\n",
       "      <td>5.0</td>\n",
       "      <td>48.951</td>\n",
       "      <td>48.95</td>\n",
       "      <td>17.00</td>\n",
       "      <td>31.95</td>\n",
       "      <td>326.2</td>\n",
       "    </tr>\n",
       "  </tbody>\n",
       "</table>\n",
       "<p>4602 rows × 7 columns</p>\n",
       "</div>"
      ],
      "text/plain": [
       "            Clerk  Quantity  Net_Price  Total_Sale    COGS  Profit  Margin\n",
       "SKU                                                                       \n",
       "#4020          12       2.0     18.981       18.98   12.34    6.64    69.6\n",
       "#4030         365      10.0     99.900       99.90   72.20   27.70   277.0\n",
       "-12-           23       1.0     16.990       16.99    8.85    8.14    47.9\n",
       "-88003-       204       5.0      6.802        8.59    1.40    7.19   334.0\n",
       "/H           3288     356.0    664.355     1206.08  669.95  536.13  3839.1\n",
       "...           ...       ...        ...         ...     ...     ...     ...\n",
       "ZN25112L        6       1.0     27.990       27.99   13.00   14.99    53.6\n",
       "ZN25300L       83       2.0    107.980      107.98   54.74   53.24    98.6\n",
       "ZSB4U405      111       3.0     28.971       28.97   10.20   18.77   194.2\n",
       "ZSB4U410      229       6.0     59.940       59.94    0.00   59.94   600.0\n",
       "ZSB4UMF410    284       5.0     48.951       48.95   17.00   31.95   326.2\n",
       "\n",
       "[4602 rows x 7 columns]"
      ]
     },
     "execution_count": 63,
     "metadata": {},
     "output_type": "execute_result"
    }
   ],
   "source": [
    "test"
   ]
  },
  {
   "cell_type": "code",
   "execution_count": null,
   "id": "fde09193",
   "metadata": {},
   "outputs": [],
   "source": []
  }
 ],
 "metadata": {
  "kernelspec": {
   "display_name": "Python 3 (ipykernel)",
   "language": "python",
   "name": "python3"
  },
  "language_info": {
   "codemirror_mode": {
    "name": "ipython",
    "version": 3
   },
   "file_extension": ".py",
   "mimetype": "text/x-python",
   "name": "python",
   "nbconvert_exporter": "python",
   "pygments_lexer": "ipython3",
   "version": "3.9.7"
  }
 },
 "nbformat": 4,
 "nbformat_minor": 5
}
