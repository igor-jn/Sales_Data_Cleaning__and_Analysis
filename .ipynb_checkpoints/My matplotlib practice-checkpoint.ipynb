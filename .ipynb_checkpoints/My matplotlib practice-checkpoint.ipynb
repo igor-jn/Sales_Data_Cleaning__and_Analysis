{
 "cells": [
  {
   "cell_type": "code",
   "execution_count": 1,
   "id": "208ca2a0",
   "metadata": {},
   "outputs": [],
   "source": [
    "import numpy as np"
   ]
  },
  {
   "cell_type": "code",
   "execution_count": 2,
   "id": "51d4ab72",
   "metadata": {},
   "outputs": [],
   "source": [
    "import pandas as pd"
   ]
  },
  {
   "cell_type": "code",
   "execution_count": 3,
   "id": "70bc99c0",
   "metadata": {},
   "outputs": [],
   "source": [
    "import matplotlib.pyplot as plt"
   ]
  },
  {
   "cell_type": "code",
   "execution_count": 4,
   "id": "db4c3795",
   "metadata": {},
   "outputs": [],
   "source": [
    "%matplotlib inline"
   ]
  },
  {
   "cell_type": "code",
   "execution_count": 5,
   "id": "79535434",
   "metadata": {},
   "outputs": [],
   "source": [
    "df = pd.read_table('Merged_Clean.TXT', sep=r'\\s+', names=['Invoice','Customer#','Invoice_Date','Quantity','UOM','List_Price','NET_Price','Total','COGS','Margin'], engine='python')"
   ]
  },
  {
   "cell_type": "code",
   "execution_count": 6,
   "id": "7bbc6f0d",
   "metadata": {},
   "outputs": [
    {
     "data": {
      "text/html": [
       "<div>\n",
       "<style scoped>\n",
       "    .dataframe tbody tr th:only-of-type {\n",
       "        vertical-align: middle;\n",
       "    }\n",
       "\n",
       "    .dataframe tbody tr th {\n",
       "        vertical-align: top;\n",
       "    }\n",
       "\n",
       "    .dataframe thead th {\n",
       "        text-align: right;\n",
       "    }\n",
       "</style>\n",
       "<table border=\"1\" class=\"dataframe\">\n",
       "  <thead>\n",
       "    <tr style=\"text-align: right;\">\n",
       "      <th></th>\n",
       "      <th>Invoice</th>\n",
       "      <th>Customer#</th>\n",
       "      <th>Invoice_Date</th>\n",
       "      <th>Quantity</th>\n",
       "      <th>UOM</th>\n",
       "      <th>List_Price</th>\n",
       "      <th>NET_Price</th>\n",
       "      <th>Total</th>\n",
       "      <th>COGS</th>\n",
       "      <th>Margin</th>\n",
       "    </tr>\n",
       "  </thead>\n",
       "  <tbody>\n",
       "    <tr>\n",
       "      <th>0</th>\n",
       "      <td>31514A</td>\n",
       "      <td>CASH</td>\n",
       "      <td>2022-01-04</td>\n",
       "      <td>4.0</td>\n",
       "      <td>248S</td>\n",
       "      <td>6.8</td>\n",
       "      <td>1275.0</td>\n",
       "      <td>27.2</td>\n",
       "      <td>16.53</td>\n",
       "      <td>39.2</td>\n",
       "    </tr>\n",
       "    <tr>\n",
       "      <th>1</th>\n",
       "      <td>31733A</td>\n",
       "      <td>1263</td>\n",
       "      <td>2022-01-04</td>\n",
       "      <td>12.0</td>\n",
       "      <td>248S</td>\n",
       "      <td>6.8</td>\n",
       "      <td>1275.0</td>\n",
       "      <td>81.6</td>\n",
       "      <td>49.60</td>\n",
       "      <td>39.2</td>\n",
       "    </tr>\n",
       "  </tbody>\n",
       "</table>\n",
       "</div>"
      ],
      "text/plain": [
       "  Invoice Customer# Invoice_Date  Quantity   UOM  List_Price  NET_Price  \\\n",
       "0  31514A      CASH   2022-01-04       4.0  248S         6.8     1275.0   \n",
       "1  31733A      1263   2022-01-04      12.0  248S         6.8     1275.0   \n",
       "\n",
       "   Total   COGS  Margin  \n",
       "0   27.2  16.53    39.2  \n",
       "1   81.6  49.60    39.2  "
      ]
     },
     "execution_count": 6,
     "metadata": {},
     "output_type": "execute_result"
    }
   ],
   "source": [
    "df.head(2)"
   ]
  },
  {
   "cell_type": "code",
   "execution_count": 7,
   "id": "a52b5593",
   "metadata": {},
   "outputs": [
    {
     "name": "stdout",
     "output_type": "stream",
     "text": [
      "Last year Dunbar Lumber sold 57234.17 to account type customers\n"
     ]
    }
   ],
   "source": [
    "print('Last year Dunbar Lumber sold {:.2f} to account type customers'.format(sum(df[(df['UOM'] == '248S') & (df['Customer#'] !='CASH')]['Total'])))"
   ]
  },
  {
   "cell_type": "code",
   "execution_count": null,
   "id": "7ed3807d",
   "metadata": {},
   "outputs": [],
   "source": [
    "sum(df[(df['UOM'] == '248S') & (df['Customer#'] =='CASH')]['Total'])"
   ]
  },
  {
   "cell_type": "code",
   "execution_count": 8,
   "id": "25fd824e",
   "metadata": {},
   "outputs": [
    {
     "name": "stdout",
     "output_type": "stream",
     "text": [
      "Last year Dunbar Lumber sold 57234.17 to account type customers\n",
      "Last year Dunbar Lumber sold 32678.66 to CASH type customers\n"
     ]
    }
   ],
   "source": [
    "print('Last year Dunbar Lumber sold {:.2f} to account type customers'.format(sum(df[(df['UOM'] == '248S') & (df['Customer#'] !='CASH')]['Total'])))\n",
    "print('Last year Dunbar Lumber sold {:.2f} to CASH type customers'.format(sum(df[(df['UOM'] == '248S') & (df['Customer#'] =='CASH')]['Total'])))"
   ]
  },
  {
   "cell_type": "code",
   "execution_count": 16,
   "id": "626cd78d",
   "metadata": {},
   "outputs": [],
   "source": [
    "dates = df['Invoice_Date']"
   ]
  },
  {
   "cell_type": "code",
   "execution_count": null,
   "id": "b1da0d64",
   "metadata": {},
   "outputs": [],
   "source": []
  }
 ],
 "metadata": {
  "kernelspec": {
   "display_name": "Python 3 (ipykernel)",
   "language": "python",
   "name": "python3"
  },
  "language_info": {
   "codemirror_mode": {
    "name": "ipython",
    "version": 3
   },
   "file_extension": ".py",
   "mimetype": "text/x-python",
   "name": "python",
   "nbconvert_exporter": "python",
   "pygments_lexer": "ipython3",
   "version": "3.9.7"
  }
 },
 "nbformat": 4,
 "nbformat_minor": 5
}
