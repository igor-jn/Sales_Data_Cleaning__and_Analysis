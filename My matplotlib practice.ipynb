{
 "cells": [
  {
   "cell_type": "code",
   "execution_count": 1,
   "id": "208ca2a0",
   "metadata": {},
   "outputs": [],
   "source": [
    "import numpy as np"
   ]
  },
  {
   "cell_type": "code",
   "execution_count": 2,
   "id": "51d4ab72",
   "metadata": {},
   "outputs": [],
   "source": [
    "import pandas as pd"
   ]
  },
  {
   "cell_type": "code",
   "execution_count": 3,
   "id": "70bc99c0",
   "metadata": {},
   "outputs": [],
   "source": [
    "import matplotlib.pyplot as plt"
   ]
  },
  {
   "cell_type": "code",
   "execution_count": 47,
   "id": "c4ad4ab4",
   "metadata": {},
   "outputs": [],
   "source": [
    "import datetime"
   ]
  },
  {
   "cell_type": "code",
   "execution_count": 4,
   "id": "db4c3795",
   "metadata": {},
   "outputs": [],
   "source": [
    "%matplotlib inline"
   ]
  },
  {
   "cell_type": "code",
   "execution_count": 5,
   "id": "79535434",
   "metadata": {},
   "outputs": [],
   "source": [
    "df = pd.read_table('Merged_Clean.TXT', sep=r'\\s+', names=['Invoice','Customer#','Invoice_Date','Quantity','UOM','List_Price','NET_Price','Total','COGS','Margin'], engine='python')"
   ]
  },
  {
   "cell_type": "code",
   "execution_count": 1,
   "id": "7bbc6f0d",
   "metadata": {},
   "outputs": [
    {
     "ename": "NameError",
     "evalue": "name 'df' is not defined",
     "output_type": "error",
     "traceback": [
      "\u001b[1;31m---------------------------------------------------------------------------\u001b[0m",
      "\u001b[1;31mNameError\u001b[0m                                 Traceback (most recent call last)",
      "\u001b[1;32m~\\AppData\\Local\\Temp/ipykernel_1260/3771845804.py\u001b[0m in \u001b[0;36m<module>\u001b[1;34m\u001b[0m\n\u001b[1;32m----> 1\u001b[1;33m \u001b[0mdf\u001b[0m\u001b[1;33m.\u001b[0m\u001b[0minfo\u001b[0m\u001b[1;33m(\u001b[0m\u001b[1;33m)\u001b[0m\u001b[1;33m\u001b[0m\u001b[1;33m\u001b[0m\u001b[0m\n\u001b[0m",
      "\u001b[1;31mNameError\u001b[0m: name 'df' is not defined"
     ]
    }
   ],
   "source": [
    "df.info()"
   ]
  },
  {
   "cell_type": "code",
   "execution_count": 7,
   "id": "a52b5593",
   "metadata": {},
   "outputs": [
    {
     "name": "stdout",
     "output_type": "stream",
     "text": [
      "Last year Dunbar Lumber sold 57234.17 to account type customers\n"
     ]
    }
   ],
   "source": [
    "print('Last year Dunbar Lumber sold {:.2f} to account type customers'.format(sum(df[(df['UOM'] == '248S') & (df['Customer#'] !='CASH')]['Total'])))"
   ]
  },
  {
   "cell_type": "code",
   "execution_count": null,
   "id": "7ed3807d",
   "metadata": {},
   "outputs": [],
   "source": [
    "sum(df[(df['UOM'] == '248S') & (df['Customer#'] =='CASH')]['Total'])"
   ]
  },
  {
   "cell_type": "code",
   "execution_count": 8,
   "id": "25fd824e",
   "metadata": {},
   "outputs": [
    {
     "name": "stdout",
     "output_type": "stream",
     "text": [
      "Last year Dunbar Lumber sold 57234.17 to account type customers\n",
      "Last year Dunbar Lumber sold 32678.66 to CASH type customers\n"
     ]
    }
   ],
   "source": [
    "print('Last year Dunbar Lumber sold {:.2f} to account type customers'.format(sum(df[(df['UOM'] == '248S') & (df['Customer#'] !='CASH')]['Total'])))\n",
    "print('Last year Dunbar Lumber sold {:.2f} to CASH type customers'.format(sum(df[(df['UOM'] == '248S') & (df['Customer#'] =='CASH')]['Total'])))"
   ]
  },
  {
   "cell_type": "code",
   "execution_count": 56,
   "id": "626cd78d",
   "metadata": {},
   "outputs": [
    {
     "data": {
      "text/plain": [
       "0      2022-01-04\n",
       "1      2022-01-04\n",
       "2      2022-01-05\n",
       "3      2022-01-05\n",
       "4      2022-01-05\n",
       "          ...    \n",
       "2307   2022-11-21\n",
       "2308   2022-11-21\n",
       "2309   2022-11-21\n",
       "2310   2022-12-08\n",
       "2311   2022-12-14\n",
       "Name: Invoice_Date, Length: 2312, dtype: datetime64[ns]"
      ]
     },
     "execution_count": 56,
     "metadata": {},
     "output_type": "execute_result"
    }
   ],
   "source": [
    "df['Invoice_Date']."
   ]
  },
  {
   "cell_type": "code",
   "execution_count": 46,
   "id": "4eb1b21c",
   "metadata": {},
   "outputs": [
    {
     "data": {
      "text/plain": [
       "0       2022-01-04\n",
       "1       2022-01-04\n",
       "2       2022-01-05\n",
       "3       2022-01-05\n",
       "4       2022-01-05\n",
       "           ...    \n",
       "2307    2022-11-21\n",
       "2308    2022-11-21\n",
       "2309    2022-11-21\n",
       "2310    2022-12-08\n",
       "2311    2022-12-14\n",
       "Name: Invoice_Date, Length: 2312, dtype: object"
      ]
     },
     "execution_count": 46,
     "metadata": {},
     "output_type": "execute_result"
    }
   ],
   "source": [
    "dates[0:]"
   ]
  },
  {
   "cell_type": "code",
   "execution_count": 36,
   "id": "471cf819",
   "metadata": {},
   "outputs": [],
   "source": [
    "months = df['Invoice_Date']"
   ]
  },
  {
   "cell_type": "code",
   "execution_count": 53,
   "id": "6b876832",
   "metadata": {},
   "outputs": [
    {
     "ename": "AttributeError",
     "evalue": "'Series' object has no attribute 'datetime'",
     "output_type": "error",
     "traceback": [
      "\u001b[1;31m---------------------------------------------------------------------------\u001b[0m",
      "\u001b[1;31mAttributeError\u001b[0m                            Traceback (most recent call last)",
      "\u001b[1;32m~\\AppData\\Local\\Temp/ipykernel_8504/4148753377.py\u001b[0m in \u001b[0;36m<module>\u001b[1;34m\u001b[0m\n\u001b[1;32m----> 1\u001b[1;33m \u001b[0mmonths\u001b[0m\u001b[1;33m.\u001b[0m\u001b[0mdatetime\u001b[0m\u001b[1;33m.\u001b[0m\u001b[0mmonth\u001b[0m\u001b[1;33m(\u001b[0m\u001b[1;33m)\u001b[0m\u001b[1;33m\u001b[0m\u001b[1;33m\u001b[0m\u001b[0m\n\u001b[0m",
      "\u001b[1;32mC:\\ProgramData\\Anaconda3\\lib\\site-packages\\pandas\\core\\generic.py\u001b[0m in \u001b[0;36m__getattr__\u001b[1;34m(self, name)\u001b[0m\n\u001b[0;32m   5485\u001b[0m         ):\n\u001b[0;32m   5486\u001b[0m             \u001b[1;32mreturn\u001b[0m \u001b[0mself\u001b[0m\u001b[1;33m[\u001b[0m\u001b[0mname\u001b[0m\u001b[1;33m]\u001b[0m\u001b[1;33m\u001b[0m\u001b[1;33m\u001b[0m\u001b[0m\n\u001b[1;32m-> 5487\u001b[1;33m         \u001b[1;32mreturn\u001b[0m \u001b[0mobject\u001b[0m\u001b[1;33m.\u001b[0m\u001b[0m__getattribute__\u001b[0m\u001b[1;33m(\u001b[0m\u001b[0mself\u001b[0m\u001b[1;33m,\u001b[0m \u001b[0mname\u001b[0m\u001b[1;33m)\u001b[0m\u001b[1;33m\u001b[0m\u001b[1;33m\u001b[0m\u001b[0m\n\u001b[0m\u001b[0;32m   5488\u001b[0m \u001b[1;33m\u001b[0m\u001b[0m\n\u001b[0;32m   5489\u001b[0m     \u001b[1;32mdef\u001b[0m \u001b[0m__setattr__\u001b[0m\u001b[1;33m(\u001b[0m\u001b[0mself\u001b[0m\u001b[1;33m,\u001b[0m \u001b[0mname\u001b[0m\u001b[1;33m:\u001b[0m \u001b[0mstr\u001b[0m\u001b[1;33m,\u001b[0m \u001b[0mvalue\u001b[0m\u001b[1;33m)\u001b[0m \u001b[1;33m->\u001b[0m \u001b[1;32mNone\u001b[0m\u001b[1;33m:\u001b[0m\u001b[1;33m\u001b[0m\u001b[1;33m\u001b[0m\u001b[0m\n",
      "\u001b[1;31mAttributeError\u001b[0m: 'Series' object has no attribute 'datetime'"
     ]
    }
   ],
   "source": [
    "months.datetime.month()"
   ]
  },
  {
   "cell_type": "code",
   "execution_count": 51,
   "id": "0d18fbd5",
   "metadata": {},
   "outputs": [],
   "source": [
    "df['Invoice_Date'] = pd.to_datetime(df['Invoice_Date'])"
   ]
  },
  {
   "cell_type": "code",
   "execution_count": null,
   "id": "b646ab6e",
   "metadata": {},
   "outputs": [],
   "source": []
  }
 ],
 "metadata": {
  "kernelspec": {
   "display_name": "Python 3 (ipykernel)",
   "language": "python",
   "name": "python3"
  },
  "language_info": {
   "codemirror_mode": {
    "name": "ipython",
    "version": 3
   },
   "file_extension": ".py",
   "mimetype": "text/x-python",
   "name": "python",
   "nbconvert_exporter": "python",
   "pygments_lexer": "ipython3",
   "version": "3.9.7"
  }
 },
 "nbformat": 4,
 "nbformat_minor": 5
}
