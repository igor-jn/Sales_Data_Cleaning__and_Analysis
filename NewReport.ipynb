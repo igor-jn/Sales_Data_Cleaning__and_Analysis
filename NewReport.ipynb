{
 "cells": [
  {
   "cell_type": "code",
   "execution_count": 1,
   "id": "a5566326",
   "metadata": {},
   "outputs": [],
   "source": [
    "import re\n",
    "import csv\n",
    "import numpy as np\n",
    "import pandas as pd\n",
    "import seaborn as sns\n"
   ]
  },
  {
   "cell_type": "code",
   "execution_count": 2,
   "id": "2a06eb8e",
   "metadata": {},
   "outputs": [],
   "source": [
    "%matplotlib inline"
   ]
  },
  {
   "cell_type": "code",
   "execution_count": 67,
   "id": "51cf86ed",
   "metadata": {},
   "outputs": [],
   "source": [
    "df = pd.read_csv('newdata.CSV',encoding='Utf-8',engine='python')\n",
    "df.dropna(inplace=True)"
   ]
  },
  {
   "cell_type": "code",
   "execution_count": 68,
   "id": "8d68c6c6",
   "metadata": {},
   "outputs": [
    {
     "data": {
      "text/html": [
       "<div>\n",
       "<style scoped>\n",
       "    .dataframe tbody tr th:only-of-type {\n",
       "        vertical-align: middle;\n",
       "    }\n",
       "\n",
       "    .dataframe tbody tr th {\n",
       "        vertical-align: top;\n",
       "    }\n",
       "\n",
       "    .dataframe thead th {\n",
       "        text-align: right;\n",
       "    }\n",
       "</style>\n",
       "<table border=\"1\" class=\"dataframe\">\n",
       "  <thead>\n",
       "    <tr style=\"text-align: right;\">\n",
       "      <th></th>\n",
       "      <th>Item #</th>\n",
       "      <th>Description</th>\n",
       "      <th>Sales</th>\n",
       "      <th>Discounts</th>\n",
       "      <th>Gross Sales</th>\n",
       "      <th>Returns</th>\n",
       "      <th>Net Sales</th>\n",
       "      <th>Cost</th>\n",
       "      <th>Profit</th>\n",
       "      <th>Margin</th>\n",
       "      <th>%Returns</th>\n",
       "      <th>QOH Sold</th>\n",
       "      <th>QOH Returned</th>\n",
       "      <th>%Returns.1</th>\n",
       "      <th>Net Sold</th>\n",
       "      <th>Turnover</th>\n",
       "    </tr>\n",
       "  </thead>\n",
       "  <tbody>\n",
       "    <tr>\n",
       "      <th>0</th>\n",
       "      <td>#4020</td>\n",
       "      <td>PICA-DRY PENCIL REFILLS</td>\n",
       "      <td>19.98</td>\n",
       "      <td>1.00</td>\n",
       "      <td>18.98</td>\n",
       "      <td>0.0</td>\n",
       "      <td>18.98</td>\n",
       "      <td>12.34</td>\n",
       "      <td>6.64</td>\n",
       "      <td>35.0</td>\n",
       "      <td>0.0</td>\n",
       "      <td>2.0</td>\n",
       "      <td>0.0</td>\n",
       "      <td>0.0</td>\n",
       "      <td>2.0</td>\n",
       "      <td>0.0</td>\n",
       "    </tr>\n",
       "    <tr>\n",
       "      <th>1</th>\n",
       "      <td>#4030</td>\n",
       "      <td>PICA DRY REFILL SET GRAPHITE (10)</td>\n",
       "      <td>99.90</td>\n",
       "      <td>0.00</td>\n",
       "      <td>99.90</td>\n",
       "      <td>0.0</td>\n",
       "      <td>99.90</td>\n",
       "      <td>72.20</td>\n",
       "      <td>27.70</td>\n",
       "      <td>27.7</td>\n",
       "      <td>0.0</td>\n",
       "      <td>10.0</td>\n",
       "      <td>0.0</td>\n",
       "      <td>0.0</td>\n",
       "      <td>10.0</td>\n",
       "      <td>0.0</td>\n",
       "    </tr>\n",
       "    <tr>\n",
       "      <th>2</th>\n",
       "      <td>-12-</td>\n",
       "      <td>12\" MAGNETIC BROOM</td>\n",
       "      <td>16.99</td>\n",
       "      <td>0.00</td>\n",
       "      <td>16.99</td>\n",
       "      <td>0.0</td>\n",
       "      <td>16.99</td>\n",
       "      <td>8.85</td>\n",
       "      <td>8.14</td>\n",
       "      <td>47.9</td>\n",
       "      <td>0.0</td>\n",
       "      <td>1.0</td>\n",
       "      <td>0.0</td>\n",
       "      <td>0.0</td>\n",
       "      <td>1.0</td>\n",
       "      <td>0.2</td>\n",
       "    </tr>\n",
       "    <tr>\n",
       "      <th>3</th>\n",
       "      <td>-88003-</td>\n",
       "      <td>DUPLEX REC PLATE WHITE</td>\n",
       "      <td>8.95</td>\n",
       "      <td>0.36</td>\n",
       "      <td>8.59</td>\n",
       "      <td>0.0</td>\n",
       "      <td>8.59</td>\n",
       "      <td>1.40</td>\n",
       "      <td>7.19</td>\n",
       "      <td>83.7</td>\n",
       "      <td>0.0</td>\n",
       "      <td>5.0</td>\n",
       "      <td>0.0</td>\n",
       "      <td>0.0</td>\n",
       "      <td>5.0</td>\n",
       "      <td>2.3</td>\n",
       "    </tr>\n",
       "    <tr>\n",
       "      <th>5</th>\n",
       "      <td>0-136</td>\n",
       "      <td>DT IRON SCRUB BRUSH SCRUB BUDDIES</td>\n",
       "      <td>15.96</td>\n",
       "      <td>0.40</td>\n",
       "      <td>15.56</td>\n",
       "      <td>0.0</td>\n",
       "      <td>15.56</td>\n",
       "      <td>6.00</td>\n",
       "      <td>9.56</td>\n",
       "      <td>61.4</td>\n",
       "      <td>0.0</td>\n",
       "      <td>4.0</td>\n",
       "      <td>0.0</td>\n",
       "      <td>0.0</td>\n",
       "      <td>4.0</td>\n",
       "      <td>0.8</td>\n",
       "    </tr>\n",
       "  </tbody>\n",
       "</table>\n",
       "</div>"
      ],
      "text/plain": [
       "    Item #                        Description  Sales  Discounts  Gross Sales  \\\n",
       "0    #4020            PICA-DRY PENCIL REFILLS  19.98       1.00        18.98   \n",
       "1    #4030  PICA DRY REFILL SET GRAPHITE (10)  99.90       0.00        99.90   \n",
       "2     -12-                 12\" MAGNETIC BROOM  16.99       0.00        16.99   \n",
       "3  -88003-             DUPLEX REC PLATE WHITE   8.95       0.36         8.59   \n",
       "5    0-136  DT IRON SCRUB BRUSH SCRUB BUDDIES  15.96       0.40        15.56   \n",
       "\n",
       "   Returns  Net Sales   Cost  Profit Margin  %Returns  QOH Sold  QOH Returned  \\\n",
       "0      0.0      18.98  12.34    6.64   35.0       0.0       2.0           0.0   \n",
       "1      0.0      99.90  72.20   27.70   27.7       0.0      10.0           0.0   \n",
       "2      0.0      16.99   8.85    8.14   47.9       0.0       1.0           0.0   \n",
       "3      0.0       8.59   1.40    7.19   83.7       0.0       5.0           0.0   \n",
       "5      0.0      15.56   6.00    9.56   61.4       0.0       4.0           0.0   \n",
       "\n",
       "   %Returns.1  Net Sold  Turnover  \n",
       "0         0.0       2.0       0.0  \n",
       "1         0.0      10.0       0.0  \n",
       "2         0.0       1.0       0.2  \n",
       "3         0.0       5.0       2.3  \n",
       "5         0.0       4.0       0.8  "
      ]
     },
     "execution_count": 68,
     "metadata": {},
     "output_type": "execute_result"
    }
   ],
   "source": [
    "df.head()"
   ]
  },
  {
   "cell_type": "code",
   "execution_count": 29,
   "id": "4dd33e92",
   "metadata": {},
   "outputs": [
    {
     "data": {
      "text/html": [
       "<div>\n",
       "<style scoped>\n",
       "    .dataframe tbody tr th:only-of-type {\n",
       "        vertical-align: middle;\n",
       "    }\n",
       "\n",
       "    .dataframe tbody tr th {\n",
       "        vertical-align: top;\n",
       "    }\n",
       "\n",
       "    .dataframe thead th {\n",
       "        text-align: right;\n",
       "    }\n",
       "</style>\n",
       "<table border=\"1\" class=\"dataframe\">\n",
       "  <thead>\n",
       "    <tr style=\"text-align: right;\">\n",
       "      <th></th>\n",
       "      <th>Item #</th>\n",
       "      <th>Sales</th>\n",
       "      <th>Profit</th>\n",
       "      <th>Margin</th>\n",
       "      <th>Net Sold</th>\n",
       "    </tr>\n",
       "  </thead>\n",
       "  <tbody>\n",
       "    <tr>\n",
       "      <th>0</th>\n",
       "      <td>#4020</td>\n",
       "      <td>19.98</td>\n",
       "      <td>6.64</td>\n",
       "      <td>35.0</td>\n",
       "      <td>2.0</td>\n",
       "    </tr>\n",
       "    <tr>\n",
       "      <th>1</th>\n",
       "      <td>#4030</td>\n",
       "      <td>99.90</td>\n",
       "      <td>27.70</td>\n",
       "      <td>27.7</td>\n",
       "      <td>10.0</td>\n",
       "    </tr>\n",
       "    <tr>\n",
       "      <th>2</th>\n",
       "      <td>-12-</td>\n",
       "      <td>16.99</td>\n",
       "      <td>8.14</td>\n",
       "      <td>47.9</td>\n",
       "      <td>1.0</td>\n",
       "    </tr>\n",
       "    <tr>\n",
       "      <th>3</th>\n",
       "      <td>-88003-</td>\n",
       "      <td>8.95</td>\n",
       "      <td>7.19</td>\n",
       "      <td>83.7</td>\n",
       "      <td>5.0</td>\n",
       "    </tr>\n",
       "    <tr>\n",
       "      <th>5</th>\n",
       "      <td>0-136</td>\n",
       "      <td>15.96</td>\n",
       "      <td>9.56</td>\n",
       "      <td>61.4</td>\n",
       "      <td>4.0</td>\n",
       "    </tr>\n",
       "    <tr>\n",
       "      <th>...</th>\n",
       "      <td>...</td>\n",
       "      <td>...</td>\n",
       "      <td>...</td>\n",
       "      <td>...</td>\n",
       "      <td>...</td>\n",
       "    </tr>\n",
       "    <tr>\n",
       "      <th>4541</th>\n",
       "      <td>ZN25112L</td>\n",
       "      <td>27.99</td>\n",
       "      <td>14.99</td>\n",
       "      <td>53.6</td>\n",
       "      <td>1.0</td>\n",
       "    </tr>\n",
       "    <tr>\n",
       "      <th>4542</th>\n",
       "      <td>ZN25300L</td>\n",
       "      <td>107.98</td>\n",
       "      <td>53.24</td>\n",
       "      <td>49.3</td>\n",
       "      <td>2.0</td>\n",
       "    </tr>\n",
       "    <tr>\n",
       "      <th>4543</th>\n",
       "      <td>ZSB4U405</td>\n",
       "      <td>29.97</td>\n",
       "      <td>18.77</td>\n",
       "      <td>64.8</td>\n",
       "      <td>3.0</td>\n",
       "    </tr>\n",
       "    <tr>\n",
       "      <th>4544</th>\n",
       "      <td>ZSB4U410</td>\n",
       "      <td>59.94</td>\n",
       "      <td>59.94</td>\n",
       "      <td>100.0</td>\n",
       "      <td>6.0</td>\n",
       "    </tr>\n",
       "    <tr>\n",
       "      <th>4545</th>\n",
       "      <td>ZSB4UMF410</td>\n",
       "      <td>49.95</td>\n",
       "      <td>31.95</td>\n",
       "      <td>65.3</td>\n",
       "      <td>5.0</td>\n",
       "    </tr>\n",
       "  </tbody>\n",
       "</table>\n",
       "<p>4545 rows × 5 columns</p>\n",
       "</div>"
      ],
      "text/plain": [
       "          Item #   Sales  Profit Margin  Net Sold\n",
       "0          #4020   19.98    6.64   35.0       2.0\n",
       "1          #4030   99.90   27.70   27.7      10.0\n",
       "2           -12-   16.99    8.14   47.9       1.0\n",
       "3        -88003-    8.95    7.19   83.7       5.0\n",
       "5          0-136   15.96    9.56   61.4       4.0\n",
       "...          ...     ...     ...    ...       ...\n",
       "4541    ZN25112L   27.99   14.99   53.6       1.0\n",
       "4542    ZN25300L  107.98   53.24   49.3       2.0\n",
       "4543    ZSB4U405   29.97   18.77   64.8       3.0\n",
       "4544    ZSB4U410   59.94   59.94  100.0       6.0\n",
       "4545  ZSB4UMF410   49.95   31.95   65.3       5.0\n",
       "\n",
       "[4545 rows x 5 columns]"
      ]
     },
     "execution_count": 29,
     "metadata": {},
     "output_type": "execute_result"
    }
   ],
   "source": [
    "df[['Item #', 'Sales','Profit','Margin','Net Sold']]"
   ]
  },
  {
   "cell_type": "code",
   "execution_count": 35,
   "id": "c9d2cf5f",
   "metadata": {},
   "outputs": [],
   "source": [
    "topten = df.sort_values('Sales',ascending=False).head(10)"
   ]
  },
  {
   "cell_type": "code",
   "execution_count": 65,
   "id": "9b63ef3e",
   "metadata": {},
   "outputs": [
    {
     "data": {
      "text/plain": [
       "<AxesSubplot:xlabel='count', ylabel='Sales'>"
      ]
     },
     "execution_count": 65,
     "metadata": {},
     "output_type": "execute_result"
    },
    {
     "data": {
      "image/png": "[encoded data removed]",
      "text/plain": [
       "<Figure size 432x288 with 1 Axes>"
      ]
     },
     "metadata": {
      "needs_background": "light"
     },
     "output_type": "display_data"
    }
   ],
   "source": [
    "sns.countplot(data=topten, y=topten['Sales'])"
   ]
  },
  {
   "cell_type": "code",
   "execution_count": 44,
   "id": "228a47a1",
   "metadata": {},
   "outputs": [
    {
     "name": "stderr",
     "output_type": "stream",
     "text": [
      "C:\\ProgramData\\Anaconda3\\lib\\site-packages\\seaborn\\distributions.py:2619: FutureWarning: `distplot` is a deprecated function and will be removed in a future version. Please adapt your code to use either `displot` (a figure-level function with similar flexibility) or `histplot` (an axes-level function for histograms).\n",
      "  warnings.warn(msg, FutureWarning)\n"
     ]
    },
    {
     "data": {
      "text/plain": [
       "<AxesSubplot:xlabel='Sales', ylabel='Density'>"
      ]
     },
     "execution_count": 44,
     "metadata": {},
     "output_type": "execute_result"
    },
    {
     "data": {
      "image/png": "[encoded data removed]",
      "text/plain": [
       "<Figure size 432x288 with 1 Axes>"
      ]
     },
     "metadata": {
      "needs_background": "light"
     },
     "output_type": "display_data"
    }
   ],
   "source": [
    "sns.distplot(topten['Sales'],bins=15)"
   ]
  },
  {
   "cell_type": "code",
   "execution_count": 47,
   "id": "73d549b9",
   "metadata": {},
   "outputs": [],
   "source": [
    "topten = topten[['Item #','Sales','Profit','Margin']]"
   ]
  },
  {
   "cell_type": "code",
   "execution_count": 48,
   "id": "bb14a668",
   "metadata": {},
   "outputs": [
    {
     "data": {
      "text/html": [
       "<div>\n",
       "<style scoped>\n",
       "    .dataframe tbody tr th:only-of-type {\n",
       "        vertical-align: middle;\n",
       "    }\n",
       "\n",
       "    .dataframe tbody tr th {\n",
       "        vertical-align: top;\n",
       "    }\n",
       "\n",
       "    .dataframe thead th {\n",
       "        text-align: right;\n",
       "    }\n",
       "</style>\n",
       "<table border=\"1\" class=\"dataframe\">\n",
       "  <thead>\n",
       "    <tr style=\"text-align: right;\">\n",
       "      <th></th>\n",
       "      <th>Item #</th>\n",
       "      <th>Sales</th>\n",
       "      <th>Profit</th>\n",
       "      <th>Margin</th>\n",
       "    </tr>\n",
       "  </thead>\n",
       "  <tbody>\n",
       "    <tr>\n",
       "      <th>602</th>\n",
       "      <td>12STD</td>\n",
       "      <td>7618.70</td>\n",
       "      <td>1717.00</td>\n",
       "      <td>22.8</td>\n",
       "    </tr>\n",
       "    <tr>\n",
       "      <th>995</th>\n",
       "      <td>248S</td>\n",
       "      <td>5452.80</td>\n",
       "      <td>2427.82</td>\n",
       "      <td>45.2</td>\n",
       "    </tr>\n",
       "    <tr>\n",
       "      <th>4164</th>\n",
       "      <td>RAMBOARD</td>\n",
       "      <td>4616.50</td>\n",
       "      <td>1391.04</td>\n",
       "      <td>30.6</td>\n",
       "    </tr>\n",
       "    <tr>\n",
       "      <th>1300</th>\n",
       "      <td>34STD</td>\n",
       "      <td>4076.60</td>\n",
       "      <td>1120.60</td>\n",
       "      <td>27.9</td>\n",
       "    </tr>\n",
       "    <tr>\n",
       "      <th>3173</th>\n",
       "      <td>DELIVERY</td>\n",
       "      <td>3539.00</td>\n",
       "      <td>1813.50</td>\n",
       "      <td>51.2</td>\n",
       "    </tr>\n",
       "    <tr>\n",
       "      <th>1033</th>\n",
       "      <td>2610S</td>\n",
       "      <td>3533.00</td>\n",
       "      <td>908.12</td>\n",
       "      <td>25.7</td>\n",
       "    </tr>\n",
       "    <tr>\n",
       "      <th>4171</th>\n",
       "      <td>REBAR58</td>\n",
       "      <td>3365.45</td>\n",
       "      <td>685.87</td>\n",
       "      <td>20.7</td>\n",
       "    </tr>\n",
       "    <tr>\n",
       "      <th>1292</th>\n",
       "      <td>34FORMPLY</td>\n",
       "      <td>3338.60</td>\n",
       "      <td>427.68</td>\n",
       "      <td>13.6</td>\n",
       "    </tr>\n",
       "    <tr>\n",
       "      <th>984</th>\n",
       "      <td>2410S</td>\n",
       "      <td>3015.92</td>\n",
       "      <td>959.79</td>\n",
       "      <td>31.8</td>\n",
       "    </tr>\n",
       "    <tr>\n",
       "      <th>3087</th>\n",
       "      <td>CONC</td>\n",
       "      <td>2399.28</td>\n",
       "      <td>640.94</td>\n",
       "      <td>27.1</td>\n",
       "    </tr>\n",
       "  </tbody>\n",
       "</table>\n",
       "</div>"
      ],
      "text/plain": [
       "         Item #    Sales   Profit Margin\n",
       "602       12STD  7618.70  1717.00   22.8\n",
       "995        248S  5452.80  2427.82   45.2\n",
       "4164   RAMBOARD  4616.50  1391.04   30.6\n",
       "1300      34STD  4076.60  1120.60   27.9\n",
       "3173   DELIVERY  3539.00  1813.50   51.2\n",
       "1033      2610S  3533.00   908.12   25.7\n",
       "4171    REBAR58  3365.45   685.87   20.7\n",
       "1292  34FORMPLY  3338.60   427.68   13.6\n",
       "984       2410S  3015.92   959.79   31.8\n",
       "3087       CONC  2399.28   640.94   27.1"
      ]
     },
     "execution_count": 48,
     "metadata": {},
     "output_type": "execute_result"
    }
   ],
   "source": [
    "topten"
   ]
  },
  {
   "cell_type": "code",
   "execution_count": 61,
   "id": "c635e21c",
   "metadata": {},
   "outputs": [
    {
     "data": {
      "text/plain": [
       "<AxesSubplot:xlabel='Sales', ylabel='Item #'>"
      ]
     },
     "execution_count": 61,
     "metadata": {},
     "output_type": "execute_result"
    },
    {
     "data": {
      "image/png": "[encoded data removed]",
      "text/plain": [
       "<Figure size 432x288 with 1 Axes>"
      ]
     },
     "metadata": {
      "needs_background": "light"
     },
     "output_type": "display_data"
    }
   ],
   "source": [
    "sns.barplot(x='Sales',y='Item #',data=topten,palette='crest', orient='h')"
   ]
  },
  {
   "cell_type": "markdown",
   "id": "743806b4",
   "metadata": {},
   "source": [
    "## 248 Detailing"
   ]
  },
  {
   "cell_type": "code",
   "execution_count": 100,
   "id": "4d43be54",
   "metadata": {},
   "outputs": [
    {
     "data": {
      "text/html": [
       "<div>\n",
       "<style scoped>\n",
       "    .dataframe tbody tr th:only-of-type {\n",
       "        vertical-align: middle;\n",
       "    }\n",
       "\n",
       "    .dataframe tbody tr th {\n",
       "        vertical-align: top;\n",
       "    }\n",
       "\n",
       "    .dataframe thead th {\n",
       "        text-align: right;\n",
       "    }\n",
       "</style>\n",
       "<table border=\"1\" class=\"dataframe\">\n",
       "  <thead>\n",
       "    <tr style=\"text-align: right;\">\n",
       "      <th></th>\n",
       "      <th>0</th>\n",
       "      <th>1</th>\n",
       "      <th>2</th>\n",
       "      <th>3</th>\n",
       "      <th>4</th>\n",
       "      <th>5</th>\n",
       "      <th>6</th>\n",
       "      <th>7</th>\n",
       "      <th>8</th>\n",
       "      <th>9</th>\n",
       "    </tr>\n",
       "  </thead>\n",
       "  <tbody>\n",
       "    <tr>\n",
       "      <th>0</th>\n",
       "      <td>00087B</td>\n",
       "      <td>CASH</td>\n",
       "      <td>02/25/2023</td>\n",
       "      <td>6.00</td>\n",
       "      <td>PIECE</td>\n",
       "      <td>1,080.00</td>\n",
       "      <td>34.56</td>\n",
       "      <td>20.00</td>\n",
       "      <td>14.56</td>\n",
       "      <td>42.1</td>\n",
       "    </tr>\n",
       "    <tr>\n",
       "      <th>1</th>\n",
       "      <td>00437B</td>\n",
       "      <td>CASH</td>\n",
       "      <td>02/27/2023</td>\n",
       "      <td>15.00</td>\n",
       "      <td>PIECE</td>\n",
       "      <td>1,080.00</td>\n",
       "      <td>86.40</td>\n",
       "      <td>50.00</td>\n",
       "      <td>36.40</td>\n",
       "      <td>42.1</td>\n",
       "    </tr>\n",
       "    <tr>\n",
       "      <th>2</th>\n",
       "      <td>00531B</td>\n",
       "      <td>CASH</td>\n",
       "      <td>02/27/2023</td>\n",
       "      <td>10.00</td>\n",
       "      <td>PIECE</td>\n",
       "      <td>1,080.00</td>\n",
       "      <td>57.60</td>\n",
       "      <td>33.33</td>\n",
       "      <td>24.27</td>\n",
       "      <td>42.1</td>\n",
       "    </tr>\n",
       "    <tr>\n",
       "      <th>3</th>\n",
       "      <td>00607B</td>\n",
       "      <td>KORERES</td>\n",
       "      <td>02/27/2023</td>\n",
       "      <td>6.00</td>\n",
       "      <td>PIECE</td>\n",
       "      <td>1,080.00</td>\n",
       "      <td>34.56</td>\n",
       "      <td>20.00</td>\n",
       "      <td>14.56</td>\n",
       "      <td>42.1</td>\n",
       "    </tr>\n",
       "    <tr>\n",
       "      <th>4</th>\n",
       "      <td>00614B</td>\n",
       "      <td>CASH</td>\n",
       "      <td>02/27/2023</td>\n",
       "      <td>1.00</td>\n",
       "      <td>PIECE</td>\n",
       "      <td>1,080.00</td>\n",
       "      <td>5.76</td>\n",
       "      <td>3.33</td>\n",
       "      <td>2.43</td>\n",
       "      <td>42.2</td>\n",
       "    </tr>\n",
       "    <tr>\n",
       "      <th>...</th>\n",
       "      <td>...</td>\n",
       "      <td>...</td>\n",
       "      <td>...</td>\n",
       "      <td>...</td>\n",
       "      <td>...</td>\n",
       "      <td>...</td>\n",
       "      <td>...</td>\n",
       "      <td>...</td>\n",
       "      <td>...</td>\n",
       "      <td>...</td>\n",
       "    </tr>\n",
       "    <tr>\n",
       "      <th>207</th>\n",
       "      <td>──────────</td>\n",
       "      <td>──────────────</td>\n",
       "      <td>──────────────</td>\n",
       "      <td>──────────────</td>\n",
       "      <td>───────\\r\\n</td>\n",
       "      <td>None</td>\n",
       "      <td>NaN</td>\n",
       "      <td>NaN</td>\n",
       "      <td>NaN</td>\n",
       "      <td>NaN</td>\n",
       "    </tr>\n",
       "    <tr>\n",
       "      <th>208</th>\n",
       "      <td>2023/02</td>\n",
       "      <td>Totals:</td>\n",
       "      <td>883.00</td>\n",
       "      <td>5,370.88</td>\n",
       "      <td>2,943.06</td>\n",
       "      <td>2,427.82</td>\n",
       "      <td>45.20</td>\n",
       "      <td>NaN</td>\n",
       "      <td>NaN</td>\n",
       "      <td>NaN</td>\n",
       "    </tr>\n",
       "    <tr>\n",
       "      <th>209</th>\n",
       "      <td>──────────</td>\n",
       "      <td>──────────────</td>\n",
       "      <td>──────────────</td>\n",
       "      <td>──────────────</td>\n",
       "      <td>───────\\r\\n</td>\n",
       "      <td>None</td>\n",
       "      <td>NaN</td>\n",
       "      <td>NaN</td>\n",
       "      <td>NaN</td>\n",
       "      <td>NaN</td>\n",
       "    </tr>\n",
       "    <tr>\n",
       "      <th>210</th>\n",
       "      <td>2023/02 - 2023/02</td>\n",
       "      <td>TOTALS:</td>\n",
       "      <td>883.00</td>\n",
       "      <td>5,370.88</td>\n",
       "      <td>2,943.06</td>\n",
       "      <td>2,427.82</td>\n",
       "      <td>45.20</td>\n",
       "      <td>NaN</td>\n",
       "      <td>NaN</td>\n",
       "      <td>NaN</td>\n",
       "    </tr>\n",
       "    <tr>\n",
       "      <th>211</th>\n",
       "      <td>BDCFHB (AUDITSAL v7.5.6.004)</td>\n",
       "      <td>\\r\\n</td>\n",
       "      <td>None</td>\n",
       "      <td>None</td>\n",
       "      <td>None</td>\n",
       "      <td>None</td>\n",
       "      <td>NaN</td>\n",
       "      <td>NaN</td>\n",
       "      <td>NaN</td>\n",
       "      <td>NaN</td>\n",
       "    </tr>\n",
       "  </tbody>\n",
       "</table>\n",
       "<p>212 rows × 10 columns</p>\n",
       "</div>"
      ],
      "text/plain": [
       "                                0                1               2  \\\n",
       "0                          00087B             CASH      02/25/2023   \n",
       "1                          00437B             CASH      02/27/2023   \n",
       "2                          00531B             CASH      02/27/2023   \n",
       "3                          00607B          KORERES      02/27/2023   \n",
       "4                          00614B             CASH      02/27/2023   \n",
       "..                            ...              ...             ...   \n",
       "207                    ──────────   ──────────────  ──────────────   \n",
       "208                       2023/02          Totals:          883.00   \n",
       "209                    ──────────   ──────────────  ──────────────   \n",
       "210             2023/02 - 2023/02          TOTALS:          883.00   \n",
       "211  BDCFHB (AUDITSAL v7.5.6.004)             \\r\\n            None   \n",
       "\n",
       "                  3             4         5      6      7      8     9  \n",
       "0              6.00         PIECE  1,080.00  34.56  20.00  14.56  42.1  \n",
       "1             15.00         PIECE  1,080.00  86.40  50.00  36.40  42.1  \n",
       "2             10.00         PIECE  1,080.00  57.60  33.33  24.27  42.1  \n",
       "3              6.00         PIECE  1,080.00  34.56  20.00  14.56  42.1  \n",
       "4              1.00         PIECE  1,080.00   5.76   3.33   2.43  42.2  \n",
       "..              ...           ...       ...    ...    ...    ...   ...  \n",
       "207  ──────────────   ───────\\r\\n      None    NaN    NaN    NaN   NaN  \n",
       "208        5,370.88      2,943.06  2,427.82  45.20    NaN    NaN   NaN  \n",
       "209  ──────────────   ───────\\r\\n      None    NaN    NaN    NaN   NaN  \n",
       "210        5,370.88      2,943.06  2,427.82  45.20    NaN    NaN   NaN  \n",
       "211            None          None      None    NaN    NaN    NaN   NaN  \n",
       "\n",
       "[212 rows x 10 columns]"
      ]
     },
     "execution_count": 100,
     "metadata": {},
     "output_type": "execute_result"
    }
   ],
   "source": [
    "df248 = pd.read_csv('248s_feb2023.csv',sep=',',header=None,encoding='Utf-8', engine='python')\n",
    "df248"
   ]
  },
  {
   "cell_type": "code",
   "execution_count": 101,
   "id": "62b31c0f",
   "metadata": {},
   "outputs": [],
   "source": [
    "df248.dropna(inplace=True)"
   ]
  },
  {
   "cell_type": "code",
   "execution_count": 102,
   "id": "6d3f7016",
   "metadata": {},
   "outputs": [],
   "source": [
    "mapper = ({0:'Invoice',\n",
    "           1:'customer#',\n",
    "           2:'invoicedate',\n",
    "           3:'qty',\n",
    "           4:'UOM',\n",
    "           5:'netprice',\n",
    "           6:'Total',\n",
    "           7:'COGS',\n",
    "           8:'Profit',\n",
    "           9:'Margin'})"
   ]
  },
  {
   "cell_type": "code",
   "execution_count": 103,
   "id": "01d8d0a0",
   "metadata": {},
   "outputs": [],
   "source": [
    "df248 = df248.rename(columns=mapper)"
   ]
  },
  {
   "cell_type": "code",
   "execution_count": null,
   "id": "03be723e",
   "metadata": {},
   "outputs": [],
   "source": []
  },
  {
   "cell_type": "code",
   "execution_count": 90,
   "id": "89dab902",
   "metadata": {},
   "outputs": [],
   "source": [
    "df248.invoicedate = pd.to_datetime(df248.invoicedate)"
   ]
  },
  {
   "cell_type": "code",
   "execution_count": 128,
   "id": "871d7ecb",
   "metadata": {},
   "outputs": [],
   "source": [
    "byday = df248.set_index('day')"
   ]
  },
  {
   "cell_type": "code",
   "execution_count": 144,
   "id": "e3649b56",
   "metadata": {},
   "outputs": [
    {
     "data": {
      "text/plain": [
       "<AxesSubplot:xlabel='count', ylabel='day'>"
      ]
     },
     "execution_count": 144,
     "metadata": {},
     "output_type": "execute_result"
    },
    {
     "data": {
      "image/png": "[encoded data removed]",
      "text/plain": [
       "<Figure size 432x288 with 1 Axes>"
      ]
     },
     "metadata": {
      "needs_background": "light"
     },
     "output_type": "display_data"
    }
   ],
   "source": [
    "sns.countplot(y=byday['day'],data=byday,palette='crest',orient='h')"
   ]
  },
  {
   "cell_type": "code",
   "execution_count": 132,
   "id": "335d3177",
   "metadata": {},
   "outputs": [],
   "source": [
    "df248['day'] = df248.invoicedate.apply(lambda x: getday(x))"
   ]
  },
  {
   "cell_type": "code",
   "execution_count": 121,
   "id": "7093ef1c",
   "metadata": {},
   "outputs": [],
   "source": [
    "def getday(date):\n",
    "    \n",
    "    work = date.split('/')\n",
    "    \n",
    "    return work[1]        "
   ]
  },
  {
   "cell_type": "code",
   "execution_count": 119,
   "id": "cce9e25e",
   "metadata": {},
   "outputs": [],
   "source": [
    "work = df248.invoicedate[0].split('/')"
   ]
  },
  {
   "cell_type": "code",
   "execution_count": 120,
   "id": "180b8629",
   "metadata": {},
   "outputs": [
    {
     "data": {
      "text/plain": [
       "[' 02', '25', '2023']"
      ]
     },
     "execution_count": 120,
     "metadata": {},
     "output_type": "execute_result"
    }
   ],
   "source": [
    "work"
   ]
  },
  {
   "cell_type": "code",
   "execution_count": null,
   "id": "20ce4cd7",
   "metadata": {},
   "outputs": [],
   "source": []
  },
  {
   "cell_type": "code",
   "execution_count": 135,
   "id": "4e3678eb",
   "metadata": {},
   "outputs": [],
   "source": [
    "byday['day'] = byday.invoicedate.apply(lambda x: getday(x))"
   ]
  },
  {
   "cell_type": "code",
   "execution_count": null,
   "id": "307c9337",
   "metadata": {},
   "outputs": [],
   "source": []
  },
  {
   "cell_type": "code",
   "execution_count": null,
   "id": "52de28a5",
   "metadata": {},
   "outputs": [],
   "source": []
  }
 ],
 "metadata": {
  "kernelspec": {
   "display_name": "Python 3 (ipykernel)",
   "language": "python",
   "name": "python3"
  },
  "language_info": {
   "codemirror_mode": {
    "name": "ipython",
    "version": 3
   },
   "file_extension": ".py",
   "mimetype": "text/x-python",
   "name": "python",
   "nbconvert_exporter": "python",
   "pygments_lexer": "ipython3",
   "version": "3.9.7"
  }
 },
 "nbformat": 4,
 "nbformat_minor": 5
}
