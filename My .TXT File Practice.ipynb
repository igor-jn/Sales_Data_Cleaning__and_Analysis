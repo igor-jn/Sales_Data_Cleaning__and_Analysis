{
 "cells": [
  {
   "cell_type": "markdown",
   "id": "318a5795",
   "metadata": {},
   "source": [
    "## Importing necessary modules"
   ]
  },
  {
   "cell_type": "code",
   "execution_count": 1,
   "id": "00f2ada6",
   "metadata": {},
   "outputs": [],
   "source": [
    "import numpy as np"
   ]
  },
  {
   "cell_type": "code",
   "execution_count": 2,
   "id": "09cd4a29",
   "metadata": {},
   "outputs": [],
   "source": [
    "import pandas as pd"
   ]
  },
  {
   "cell_type": "code",
   "execution_count": 3,
   "id": "83c333b5",
   "metadata": {},
   "outputs": [],
   "source": [
    "from datetime import datetime"
   ]
  },
  {
   "cell_type": "markdown",
   "id": "f37269ac",
   "metadata": {},
   "source": [
    "## Opening files and creating dataframes"
   ]
  },
  {
   "cell_type": "code",
   "execution_count": null,
   "id": "14f4f301",
   "metadata": {},
   "outputs": [],
   "source": [
    "file1 = "
   ]
  },
  {
   "cell_type": "code",
   "execution_count": 4,
   "id": "1fe865aa",
   "metadata": {},
   "outputs": [],
   "source": [
    "df = pd.read_table('248S.TXT',sep=r'\\s+',header=1,names=['Invoice','Customer#','Invoice_Date','Quantity','UOM','List_Price','NET_Price','Total','COGS','Margin'],engine='python')"
   ]
  },
  {
   "cell_type": "code",
   "execution_count": 5,
   "id": "eaaca71c",
   "metadata": {},
   "outputs": [],
   "source": [
    "df2 = pd.read_table('2410S.TXT',sep=r'\\s+',header=1,names=['Invoice','Customer#','Invoice_Date','Quantity','UOM','List_Price','NET_Price','Total','COGS','Margin'],engine='python')"
   ]
  },
  {
   "cell_type": "code",
   "execution_count": 6,
   "id": "1032e909",
   "metadata": {},
   "outputs": [],
   "source": [
    "df3 = pd.read_table('2412S.TXT',sep=r'\\s+',header=1,names=['Invoice','Customer#','Invoice_Date','Quantity','UOM','List_Price','NET_Price','Total','COGS','Margin'],engine='python')"
   ]
  },
  {
   "cell_type": "code",
   "execution_count": 7,
   "id": "8a09e1ee",
   "metadata": {},
   "outputs": [],
   "source": [
    "df4 = pd.read_table('2416S.TXT',sep=r'\\s+',header=1,names=['Invoice','Customer#','Invoice_Date','Quantity','UOM','List_Price','NET_Price','Total','COGS','Margin'],engine='python')"
   ]
  },
  {
   "cell_type": "markdown",
   "id": "4ecfa47b",
   "metadata": {},
   "source": [
    "## Creating a test dataframe"
   ]
  },
  {
   "cell_type": "code",
   "execution_count": 8,
   "id": "755fb87a",
   "metadata": {},
   "outputs": [],
   "source": [
    "dftest = df"
   ]
  },
  {
   "cell_type": "code",
   "execution_count": 9,
   "id": "d216c0d8",
   "metadata": {},
   "outputs": [],
   "source": [
    "dftest2 = df2"
   ]
  },
  {
   "cell_type": "code",
   "execution_count": 10,
   "id": "dfa37c72",
   "metadata": {},
   "outputs": [],
   "source": [
    "dftest3 = df3"
   ]
  },
  {
   "cell_type": "code",
   "execution_count": 11,
   "id": "575e22d7",
   "metadata": {},
   "outputs": [],
   "source": [
    "dftest4 = df4"
   ]
  },
  {
   "cell_type": "markdown",
   "id": "44c9f61c",
   "metadata": {},
   "source": [
    "## Checking the file"
   ]
  },
  {
   "cell_type": "code",
   "execution_count": null,
   "id": "55716791",
   "metadata": {},
   "outputs": [],
   "source": [
    "dftest3.info()"
   ]
  },
  {
   "cell_type": "code",
   "execution_count": null,
   "id": "e1494f42",
   "metadata": {},
   "outputs": [],
   "source": [
    "dftest2.iloc[130:180]"
   ]
  },
  {
   "cell_type": "markdown",
   "id": "b5bfc941",
   "metadata": {},
   "source": [
    "## Droping columns without actual information on file 1"
   ]
  },
  {
   "cell_type": "code",
   "execution_count": 12,
   "id": "4d2ebd94",
   "metadata": {},
   "outputs": [],
   "source": [
    "dftest.drop(dftest[(dftest['Customer#'] == 'Totals:')].index,inplace=True)"
   ]
  },
  {
   "cell_type": "code",
   "execution_count": 13,
   "id": "26a7ed19",
   "metadata": {},
   "outputs": [],
   "source": [
    "dftest.drop(dftest[(dftest['Customer#'] == '──────────────')].index,inplace=True)"
   ]
  },
  {
   "cell_type": "code",
   "execution_count": 14,
   "id": "301cdff6",
   "metadata": {},
   "outputs": [],
   "source": [
    "dftest.drop(dftest[(dftest['Quantity'] == 'TOTALS:')].index,inplace=True)"
   ]
  },
  {
   "cell_type": "code",
   "execution_count": 15,
   "id": "8f0725cc",
   "metadata": {},
   "outputs": [],
   "source": [
    "dftest.drop(dftest[(dftest['Customer#'] == '(AUDITSAL')].index,inplace=True)"
   ]
  },
  {
   "cell_type": "markdown",
   "id": "3bb5681d",
   "metadata": {},
   "source": [
    "## Droping columns without actual information on file 2"
   ]
  },
  {
   "cell_type": "code",
   "execution_count": 16,
   "id": "a4f0c8ec",
   "metadata": {},
   "outputs": [],
   "source": [
    "dftest2.drop(dftest2[(dftest2['Customer#'] == 'Totals:')].index,inplace=True)"
   ]
  },
  {
   "cell_type": "code",
   "execution_count": 17,
   "id": "915e45bc",
   "metadata": {},
   "outputs": [],
   "source": [
    "dftest2.drop(dftest2[(dftest2['Customer#'] == '──────────────')].index,inplace=True)"
   ]
  },
  {
   "cell_type": "code",
   "execution_count": 18,
   "id": "e576d65f",
   "metadata": {},
   "outputs": [],
   "source": [
    "dftest2.drop(dftest2[(dftest2['Quantity'] == 'TOTALS:')].index,inplace=True)"
   ]
  },
  {
   "cell_type": "code",
   "execution_count": 19,
   "id": "df7d16e0",
   "metadata": {},
   "outputs": [],
   "source": [
    "dftest2.drop(dftest2[(dftest2['Customer#'] == '(AUDITSAL')].index,inplace=True)"
   ]
  },
  {
   "cell_type": "markdown",
   "id": "3767f528",
   "metadata": {},
   "source": [
    "## Droping columns without actual information on file 3"
   ]
  },
  {
   "cell_type": "code",
   "execution_count": 20,
   "id": "67e78631",
   "metadata": {},
   "outputs": [],
   "source": [
    "dftest3.drop(dftest3[(dftest3['Customer#'] == 'Totals:')].index,inplace=True)"
   ]
  },
  {
   "cell_type": "code",
   "execution_count": 21,
   "id": "a2f752dc",
   "metadata": {},
   "outputs": [],
   "source": [
    "dftest3.drop(dftest3[(dftest3['Customer#'] == '──────────────')].index,inplace=True)"
   ]
  },
  {
   "cell_type": "code",
   "execution_count": 22,
   "id": "bf13823d",
   "metadata": {},
   "outputs": [],
   "source": [
    "dftest3.drop(dftest3[(dftest3['Quantity'] == 'TOTALS:')].index,inplace=True)"
   ]
  },
  {
   "cell_type": "code",
   "execution_count": 23,
   "id": "14d1418f",
   "metadata": {},
   "outputs": [],
   "source": [
    "dftest3.drop(dftest3[(dftest3['Customer#'] == '(AUDITSAL')].index,inplace=True)"
   ]
  },
  {
   "cell_type": "markdown",
   "id": "e18caa88",
   "metadata": {},
   "source": [
    "## Droping columns without actual information on file 4"
   ]
  },
  {
   "cell_type": "code",
   "execution_count": 24,
   "id": "fd9628e8",
   "metadata": {},
   "outputs": [],
   "source": [
    "dftest4.drop(dftest4[(dftest4['Customer#'] == 'Totals:')].index,inplace=True)"
   ]
  },
  {
   "cell_type": "code",
   "execution_count": 25,
   "id": "b34b6fe5",
   "metadata": {},
   "outputs": [],
   "source": [
    "dftest4.drop(dftest4[(dftest4['Customer#'] == '──────────────')].index,inplace=True)"
   ]
  },
  {
   "cell_type": "code",
   "execution_count": 26,
   "id": "26cd9111",
   "metadata": {},
   "outputs": [],
   "source": [
    "dftest4.drop(dftest4[(dftest4['Quantity'] == 'TOTALS:')].index,inplace=True)"
   ]
  },
  {
   "cell_type": "code",
   "execution_count": 27,
   "id": "2bba5a41",
   "metadata": {},
   "outputs": [],
   "source": [
    "dftest4.drop(dftest4[(dftest4['Customer#'] == '(AUDITSAL')].index,inplace=True)"
   ]
  },
  {
   "cell_type": "markdown",
   "id": "3c32ac07",
   "metadata": {},
   "source": [
    "## Removing ',' to later transform into int/float on file 1"
   ]
  },
  {
   "cell_type": "code",
   "execution_count": 28,
   "id": "adea1421",
   "metadata": {},
   "outputs": [],
   "source": [
    "dftest['List_Price'] = dftest['List_Price'].str.replace(',', '')"
   ]
  },
  {
   "cell_type": "code",
   "execution_count": 29,
   "id": "ec5c00e4",
   "metadata": {},
   "outputs": [],
   "source": [
    "dftest['COGS'] = dftest['COGS'].str.replace(',', '')"
   ]
  },
  {
   "cell_type": "code",
   "execution_count": 30,
   "id": "92864cde",
   "metadata": {},
   "outputs": [],
   "source": [
    "dftest['NET_Price'] = dftest['NET_Price'].str.replace(',', '')"
   ]
  },
  {
   "cell_type": "code",
   "execution_count": 31,
   "id": "dd53deaa",
   "metadata": {},
   "outputs": [],
   "source": [
    "dftest['Total'] = dftest['Total'].str.replace(',', '')"
   ]
  },
  {
   "cell_type": "markdown",
   "id": "37c67d7d",
   "metadata": {},
   "source": [
    "## Removing ',' to later transform into int/float on file 2"
   ]
  },
  {
   "cell_type": "code",
   "execution_count": 32,
   "id": "f7761a6f",
   "metadata": {},
   "outputs": [],
   "source": [
    "dftest2['List_Price'] = dftest2['List_Price'].str.replace(',', '')"
   ]
  },
  {
   "cell_type": "code",
   "execution_count": 35,
   "id": "ff1471c4",
   "metadata": {},
   "outputs": [],
   "source": [
    "dftest2['NET_Price'] = dftest2['NET_Price'].str.replace(',', '')"
   ]
  },
  {
   "cell_type": "code",
   "execution_count": 36,
   "id": "d92baada",
   "metadata": {},
   "outputs": [],
   "source": [
    "dftest2['Total'] = dftest2['Total'].str.replace(',', '')"
   ]
  },
  {
   "cell_type": "markdown",
   "id": "a6c13f2c",
   "metadata": {},
   "source": [
    "## Removing ',' to later transform into int/float on file 3"
   ]
  },
  {
   "cell_type": "code",
   "execution_count": 37,
   "id": "531857f3",
   "metadata": {},
   "outputs": [],
   "source": [
    "dftest3['List_Price'] = dftest3['List_Price'].str.replace(',', '')"
   ]
  },
  {
   "cell_type": "code",
   "execution_count": 38,
   "id": "d613c4cd",
   "metadata": {},
   "outputs": [],
   "source": [
    "dftest3['NET_Price'] = dftest3['NET_Price'].str.replace(',', '')"
   ]
  },
  {
   "cell_type": "code",
   "execution_count": 39,
   "id": "fe597de7",
   "metadata": {},
   "outputs": [],
   "source": [
    "dftest3['Total'] = dftest3['Total'].str.replace(',', '')"
   ]
  },
  {
   "cell_type": "markdown",
   "id": "1bfa12b3",
   "metadata": {},
   "source": [
    "## Removing ',' to later transform into int/float on file 4"
   ]
  },
  {
   "cell_type": "code",
   "execution_count": 40,
   "id": "8a32164f",
   "metadata": {},
   "outputs": [],
   "source": [
    "dftest4['List_Price'] = dftest4['List_Price'].str.replace(',', '')"
   ]
  },
  {
   "cell_type": "code",
   "execution_count": 41,
   "id": "0bb36861",
   "metadata": {},
   "outputs": [],
   "source": [
    "dftest4['NET_Price'] = dftest4['NET_Price'].str.replace(',', '')"
   ]
  },
  {
   "cell_type": "code",
   "execution_count": 42,
   "id": "176a78f0",
   "metadata": {},
   "outputs": [],
   "source": [
    "dftest4['Total'] = dftest4['Total'].str.replace(',', '')"
   ]
  },
  {
   "cell_type": "markdown",
   "id": "f6c01f25",
   "metadata": {},
   "source": [
    "## Changing data types on file 1"
   ]
  },
  {
   "cell_type": "code",
   "execution_count": 43,
   "id": "bee1e989",
   "metadata": {},
   "outputs": [],
   "source": [
    "dftest['Invoice_Date'] = pd.to_datetime(dftest['Invoice_Date'])"
   ]
  },
  {
   "cell_type": "code",
   "execution_count": 44,
   "id": "f05661f2",
   "metadata": {},
   "outputs": [],
   "source": [
    "dftest['Quantity'] = pd.to_numeric(dftest['Quantity'])"
   ]
  },
  {
   "cell_type": "code",
   "execution_count": 45,
   "id": "bf7c37f5",
   "metadata": {
    "scrolled": true
   },
   "outputs": [],
   "source": [
    "dftest['Total'] = pd.to_numeric(dftest['Total'])"
   ]
  },
  {
   "cell_type": "code",
   "execution_count": 46,
   "id": "4c053805",
   "metadata": {},
   "outputs": [],
   "source": [
    "dftest['List_Price'] = pd.to_numeric(dftest['List_Price'])"
   ]
  },
  {
   "cell_type": "code",
   "execution_count": 47,
   "id": "0e1c5f3d",
   "metadata": {},
   "outputs": [],
   "source": [
    "dftest['COGS'] = pd.to_numeric(dftest['COGS'])"
   ]
  },
  {
   "cell_type": "code",
   "execution_count": 48,
   "id": "84b10fc2",
   "metadata": {},
   "outputs": [],
   "source": [
    "dftest['NET_Price'] = pd.to_numeric(dftest['NET_Price'])"
   ]
  },
  {
   "cell_type": "markdown",
   "id": "a5110cc3",
   "metadata": {},
   "source": [
    "## Changing data types on file 2"
   ]
  },
  {
   "cell_type": "code",
   "execution_count": 49,
   "id": "bfd5bd6d",
   "metadata": {},
   "outputs": [],
   "source": [
    "dftest2['Invoice_Date'] = pd.to_datetime(dftest2['Invoice_Date'])"
   ]
  },
  {
   "cell_type": "code",
   "execution_count": 50,
   "id": "be5c76e5",
   "metadata": {},
   "outputs": [],
   "source": [
    "dftest2['Quantity'] = pd.to_numeric(dftest2['Quantity'])"
   ]
  },
  {
   "cell_type": "code",
   "execution_count": 51,
   "id": "48dff9eb",
   "metadata": {},
   "outputs": [],
   "source": [
    "dftest2['Total'] = pd.to_numeric(dftest2['Total'])"
   ]
  },
  {
   "cell_type": "code",
   "execution_count": 52,
   "id": "aeec1c67",
   "metadata": {},
   "outputs": [],
   "source": [
    "dftest2['List_Price'] = pd.to_numeric(dftest2['List_Price'])"
   ]
  },
  {
   "cell_type": "code",
   "execution_count": 53,
   "id": "7766cc3d",
   "metadata": {},
   "outputs": [],
   "source": [
    "dftest2['NET_Price'] = pd.to_numeric(dftest2['NET_Price'])"
   ]
  },
  {
   "cell_type": "markdown",
   "id": "9c28b0b6",
   "metadata": {},
   "source": [
    "## Changing data types on file 3"
   ]
  },
  {
   "cell_type": "code",
   "execution_count": 54,
   "id": "61152bd8",
   "metadata": {},
   "outputs": [],
   "source": [
    "dftest3['Invoice_Date'] = pd.to_datetime(dftest3['Invoice_Date'])"
   ]
  },
  {
   "cell_type": "code",
   "execution_count": 55,
   "id": "aa6bd4ef",
   "metadata": {},
   "outputs": [],
   "source": [
    "dftest3['Quantity'] = pd.to_numeric(dftest3['Quantity'])"
   ]
  },
  {
   "cell_type": "code",
   "execution_count": 56,
   "id": "13eb697d",
   "metadata": {},
   "outputs": [],
   "source": [
    "dftest3['Total'] = pd.to_numeric(dftest3['Total'])"
   ]
  },
  {
   "cell_type": "code",
   "execution_count": 57,
   "id": "5bf314b1",
   "metadata": {},
   "outputs": [],
   "source": [
    "dftest3['List_Price'] = pd.to_numeric(dftest3['List_Price'])"
   ]
  },
  {
   "cell_type": "code",
   "execution_count": 58,
   "id": "be2ad0a0",
   "metadata": {},
   "outputs": [],
   "source": [
    "dftest3['NET_Price'] = pd.to_numeric(dftest3['NET_Price'])"
   ]
  },
  {
   "cell_type": "markdown",
   "id": "39b2eb84",
   "metadata": {},
   "source": [
    "## Changing data types on file 4"
   ]
  },
  {
   "cell_type": "code",
   "execution_count": 59,
   "id": "5f785aa2",
   "metadata": {},
   "outputs": [],
   "source": [
    "dftest4['Invoice_Date'] = pd.to_datetime(dftest4['Invoice_Date'])"
   ]
  },
  {
   "cell_type": "code",
   "execution_count": 60,
   "id": "6c0c1b2c",
   "metadata": {},
   "outputs": [],
   "source": [
    "dftest4['Quantity'] = pd.to_numeric(dftest4['Quantity'])"
   ]
  },
  {
   "cell_type": "code",
   "execution_count": 61,
   "id": "b410ae49",
   "metadata": {},
   "outputs": [],
   "source": [
    "dftest4['Total'] = pd.to_numeric(dftest4['Total'])"
   ]
  },
  {
   "cell_type": "code",
   "execution_count": 62,
   "id": "bfc2d448",
   "metadata": {},
   "outputs": [],
   "source": [
    "dftest4['List_Price'] = pd.to_numeric(dftest4['List_Price'])"
   ]
  },
  {
   "cell_type": "code",
   "execution_count": 63,
   "id": "5d6152e3",
   "metadata": {},
   "outputs": [],
   "source": [
    "dftest4['NET_Price'] = pd.to_numeric(dftest4['NET_Price'])"
   ]
  },
  {
   "cell_type": "markdown",
   "id": "9b58ee42",
   "metadata": {},
   "source": [
    "## Checkin data types"
   ]
  },
  {
   "cell_type": "code",
   "execution_count": 67,
   "id": "13e456f6",
   "metadata": {},
   "outputs": [
    {
     "name": "stdout",
     "output_type": "stream",
     "text": [
      "<class 'pandas.core.frame.DataFrame'>\n",
      "Int64Index: 97 entries, 0 to 118\n",
      "Data columns (total 10 columns):\n",
      " #   Column        Non-Null Count  Dtype         \n",
      "---  ------        --------------  -----         \n",
      " 0   Invoice       97 non-null     object        \n",
      " 1   Customer#     97 non-null     object        \n",
      " 2   Invoice_Date  97 non-null     datetime64[ns]\n",
      " 3   Quantity      97 non-null     float64       \n",
      " 4   UOM           97 non-null     object        \n",
      " 5   List_Price    97 non-null     float64       \n",
      " 6   NET_Price     97 non-null     float64       \n",
      " 7   Total         97 non-null     float64       \n",
      " 8   COGS          97 non-null     float64       \n",
      " 9   Margin        97 non-null     float64       \n",
      "dtypes: datetime64[ns](1), float64(6), object(3)\n",
      "memory usage: 8.3+ KB\n"
     ]
    }
   ],
   "source": [
    "dftest4.info()"
   ]
  },
  {
   "cell_type": "code",
   "execution_count": null,
   "id": "a5dcd0ed",
   "metadata": {},
   "outputs": [],
   "source": [
    "dftest.dtypes"
   ]
  },
  {
   "cell_type": "markdown",
   "id": "533676af",
   "metadata": {},
   "source": [
    "## Renaming Columns on file 1"
   ]
  },
  {
   "cell_type": "code",
   "execution_count": 68,
   "id": "dd6abacb",
   "metadata": {},
   "outputs": [],
   "source": [
    "dftest.rename(mapper={'UOM':'SKU'},axis=1,inplace=True)"
   ]
  },
  {
   "cell_type": "code",
   "execution_count": 69,
   "id": "d6188e29",
   "metadata": {},
   "outputs": [],
   "source": [
    "dftest['SKU'] = dftest['SKU'].str.replace('PIECE', '248S')"
   ]
  },
  {
   "cell_type": "code",
   "execution_count": 70,
   "id": "3842aa2b",
   "metadata": {},
   "outputs": [],
   "source": [
    "dftest['List_Price'] = dftest['Total'] / dftest['Quantity']"
   ]
  },
  {
   "cell_type": "markdown",
   "id": "e5311ab7",
   "metadata": {},
   "source": [
    "## Renaming Columns on file 2"
   ]
  },
  {
   "cell_type": "code",
   "execution_count": 71,
   "id": "5717ec3c",
   "metadata": {},
   "outputs": [],
   "source": [
    "dftest2.rename(mapper={'UOM':'SKU'},axis=1,inplace=True)"
   ]
  },
  {
   "cell_type": "code",
   "execution_count": 72,
   "id": "258a01f9",
   "metadata": {},
   "outputs": [],
   "source": [
    "dftest2['SKU'] = dftest2['SKU'].str.replace('PIECE', '2410S')"
   ]
  },
  {
   "cell_type": "code",
   "execution_count": 73,
   "id": "8fad46fc",
   "metadata": {},
   "outputs": [],
   "source": [
    "dftest2['List_Price'] = dftest2['Total'] / dftest2['Quantity']"
   ]
  },
  {
   "cell_type": "markdown",
   "id": "6cb6bcce",
   "metadata": {},
   "source": [
    "## Renaming Columns on file 3"
   ]
  },
  {
   "cell_type": "code",
   "execution_count": 74,
   "id": "adb16600",
   "metadata": {},
   "outputs": [],
   "source": [
    "dftest3.rename(mapper={'UOM':'SKU'},axis=1,inplace=True)"
   ]
  },
  {
   "cell_type": "code",
   "execution_count": 75,
   "id": "048ba216",
   "metadata": {},
   "outputs": [],
   "source": [
    "dftest3['SKU'] = dftest3['SKU'].str.replace('PIECE', '2412S')"
   ]
  },
  {
   "cell_type": "code",
   "execution_count": 76,
   "id": "73741b38",
   "metadata": {},
   "outputs": [],
   "source": [
    "dftest3['List_Price'] = dftest3['Total'] / dftest3['Quantity']"
   ]
  },
  {
   "cell_type": "markdown",
   "id": "b1c25ce5",
   "metadata": {},
   "source": [
    "## Renaming Columns on file 4"
   ]
  },
  {
   "cell_type": "code",
   "execution_count": 77,
   "id": "477f5ff3",
   "metadata": {},
   "outputs": [],
   "source": [
    "dftest4.rename(mapper={'UOM':'SKU'},axis=1,inplace=True)"
   ]
  },
  {
   "cell_type": "code",
   "execution_count": 78,
   "id": "e1f59c08",
   "metadata": {},
   "outputs": [],
   "source": [
    "dftest4['SKU'] = dftest4['SKU'].str.replace('PIECE', '2416S')"
   ]
  },
  {
   "cell_type": "code",
   "execution_count": 79,
   "id": "045e7d2c",
   "metadata": {},
   "outputs": [],
   "source": [
    "dftest4['List_Price'] = dftest4['Total'] / dftest4['Quantity']"
   ]
  },
  {
   "cell_type": "markdown",
   "id": "32803fbc",
   "metadata": {},
   "source": [
    "## Merging all files"
   ]
  },
  {
   "cell_type": "code",
   "execution_count": 80,
   "id": "0287d650",
   "metadata": {},
   "outputs": [],
   "source": [
    "dfcons = pd.concat([dftest,dftest2,dftest3,dftest4])"
   ]
  },
  {
   "cell_type": "code",
   "execution_count": 87,
   "id": "57f4e589",
   "metadata": {},
   "outputs": [
    {
     "name": "stdout",
     "output_type": "stream",
     "text": [
      "<class 'pandas.core.frame.DataFrame'>\n",
      "Int64Index: 2312 entries, 0 to 118\n",
      "Data columns (total 10 columns):\n",
      " #   Column        Non-Null Count  Dtype         \n",
      "---  ------        --------------  -----         \n",
      " 0   Invoice       2312 non-null   object        \n",
      " 1   Customer#     2312 non-null   object        \n",
      " 2   Invoice_Date  2312 non-null   datetime64[ns]\n",
      " 3   Quantity      2312 non-null   float64       \n",
      " 4   SKU           2312 non-null   object        \n",
      " 5   List_Price    2312 non-null   float64       \n",
      " 6   NET_Price     2312 non-null   float64       \n",
      " 7   Total         2312 non-null   float64       \n",
      " 8   COGS          2312 non-null   float64       \n",
      " 9   Margin        2312 non-null   float64       \n",
      "dtypes: datetime64[ns](1), float64(6), object(3)\n",
      "memory usage: 198.7+ KB\n"
     ]
    }
   ],
   "source": [
    "dfcons.info()"
   ]
  },
  {
   "cell_type": "markdown",
   "id": "ab2f6c93",
   "metadata": {},
   "source": [
    "## Saving new file 1"
   ]
  },
  {
   "cell_type": "code",
   "execution_count": 88,
   "id": "425ec9a6",
   "metadata": {},
   "outputs": [],
   "source": [
    "with open('C:\\\\Users\\\\NewHome32\\\\Desktop\\\\Scripts - Python\\\\My_Files\\\\248S_Clean.TXT', 'a') as f:\n",
    "    dfAsString = dftest.to_string(header=False, index=False)\n",
    "    f.write(dfAsString)\n",
    "    f.close()"
   ]
  },
  {
   "cell_type": "markdown",
   "id": "1bb675b9",
   "metadata": {},
   "source": [
    "## Saving new file 2"
   ]
  },
  {
   "cell_type": "code",
   "execution_count": 89,
   "id": "6a3419ad",
   "metadata": {},
   "outputs": [],
   "source": [
    "with open('C:\\\\Users\\\\NewHome32\\\\Desktop\\\\Scripts - Python\\\\My_Files\\\\2410S_Clean.TXT', 'a') as f:\n",
    "    dfAsString = dftest2.to_string(header=False, index=False)\n",
    "    f.write(dfAsString)\n",
    "    f.close()"
   ]
  },
  {
   "cell_type": "markdown",
   "id": "052ae604",
   "metadata": {},
   "source": [
    "## Saving new file 3"
   ]
  },
  {
   "cell_type": "code",
   "execution_count": 90,
   "id": "8ce7cb6a",
   "metadata": {},
   "outputs": [],
   "source": [
    "with open('C:\\\\Users\\\\NewHome32\\\\Desktop\\\\Scripts - Python\\\\My_Files\\\\2412S_Clean.TXT', 'a') as f:\n",
    "    dfAsString = dftest3.to_string(header=False, index=False)\n",
    "    f.write(dfAsString)\n",
    "    f.close()"
   ]
  },
  {
   "cell_type": "markdown",
   "id": "3e0760e3",
   "metadata": {},
   "source": [
    "## Saving new file 4"
   ]
  },
  {
   "cell_type": "code",
   "execution_count": 91,
   "id": "7ab5d1e6",
   "metadata": {},
   "outputs": [],
   "source": [
    "with open('C:\\\\Users\\\\NewHome32\\\\Desktop\\\\Scripts - Python\\\\My_Files\\\\2416S_Clean.TXT', 'a') as f:\n",
    "    dfAsString = dftest4.to_string(header=False, index=False)\n",
    "    f.write(dfAsString)\n",
    "    f.close()"
   ]
  },
  {
   "cell_type": "markdown",
   "id": "ba2b5817",
   "metadata": {},
   "source": [
    "## Saving merged file"
   ]
  },
  {
   "cell_type": "code",
   "execution_count": 92,
   "id": "f1da09f4",
   "metadata": {},
   "outputs": [],
   "source": [
    "with open('C:\\\\Users\\\\NewHome32\\\\Desktop\\\\Scripts - Python\\\\My_Files\\\\Merged_Clean.TXT', 'a') as f:\n",
    "    dfAsString = dfcons.to_string(header=False, index=False)\n",
    "    f.write(dfAsString)\n",
    "    f.close()"
   ]
  },
  {
   "cell_type": "code",
   "execution_count": null,
   "id": "3e7c9d6c",
   "metadata": {},
   "outputs": [],
   "source": []
  }
 ],
 "metadata": {
  "kernelspec": {
   "display_name": "Python 3 (ipykernel)",
   "language": "python",
   "name": "python3"
  },
  "language_info": {
   "codemirror_mode": {
    "name": "ipython",
    "version": 3
   },
   "file_extension": ".py",
   "mimetype": "text/x-python",
   "name": "python",
   "nbconvert_exporter": "python",
   "pygments_lexer": "ipython3",
   "version": "3.9.7"
  }
 },
 "nbformat": 4,
 "nbformat_minor": 5
}
